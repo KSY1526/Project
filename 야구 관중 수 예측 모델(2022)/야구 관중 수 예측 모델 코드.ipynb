{
  "nbformat": 4,
  "nbformat_minor": 0,
  "metadata": {
    "colab": {
      "name": "TEMPROJECT.ipynb",
      "provenance": [],
      "collapsed_sections": []
    },
    "kernelspec": {
      "name": "python3",
      "display_name": "Python 3"
    },
    "language_info": {
      "name": "python"
    }
  },
  "cells": [
    {
      "cell_type": "code",
      "source": [
        "# colab 환경에서 진행\n",
        "from google.colab import drive\n",
        "drive.mount('/content/drive')"
      ],
      "metadata": {
        "id": "rxKIxLcb0F_v",
        "colab": {
          "base_uri": "https://localhost:8080/"
        },
        "outputId": "787b7878-d71e-4c65-ad3c-d079bbfea851"
      },
      "execution_count": null,
      "outputs": [
        {
          "output_type": "stream",
          "name": "stdout",
          "text": [
            "Drive already mounted at /content/drive; to attempt to forcibly remount, call drive.mount(\"/content/drive\", force_remount=True).\n"
          ]
        }
      ]
    },
    {
      "cell_type": "code",
      "execution_count": null,
      "metadata": {
        "id": "E8Wq2z2Wgy_O"
      },
      "outputs": [],
      "source": [
        "import pandas as pd\n",
        "import numpy as np\n",
        "import matplotlib.pyplot as plt\n",
        "import seaborn as sns\n",
        "from scipy import stats\n",
        "\n",
        "import warnings\n",
        "warnings.filterwarnings(\"ignore\")\n",
        "\n",
        "path = '/content/drive/MyDrive/TermProject/'\n",
        "\n",
        "\n",
        "Audience1 = pd.read_excel(path + 'Audience.xlsx', header = 2,)\n",
        "ranking1 = pd.read_excel(path + 'ranking1.xlsx')\n",
        "Audience2 = pd.read_excel(path + 'Audience2.xlsx', header = 2,)\n",
        "ranking2 = pd.read_excel(path + 'ranking2.xlsx')"
      ]
    },
    {
      "cell_type": "code",
      "source": [
        "tem1 = pd.merge(Audience1, ranking1, how = 'left')\n",
        "tem1.head()"
      ],
      "metadata": {
        "colab": {
          "base_uri": "https://localhost:8080/",
          "height": 206
        },
        "id": "OzS1Kb8ctjIP",
        "outputId": "b80849b4-146f-48db-88c2-ae3413f13328"
      },
      "execution_count": null,
      "outputs": [
        {
          "output_type": "execute_result",
          "data": {
            "text/plain": [
              "    단체    리그       시즌    연도   월   일 요일  홈팀     원정팀        경기장    날씨   평균기온  \\\n",
              "0  KBO  정규리그  2019 시즌  2019  10   1  화  두산      NC  서울 잠실 야구장  구름많음  28.2℃   \n",
              "1  KBO  정규리그  2019 시즌  2019  10   1  화  롯데  키움히어로즈  부산 사직 야구장     비  23.3℃   \n",
              "2  KBO  정규리그  2019 시즌  2019   9  30  월  한화      SK  대전한밭종합운동장    맑음  29.1℃   \n",
              "3  KBO  정규리그  2019 시즌  2019   9  30  월  LG      롯데  서울 잠실 야구장    맑음  29.9℃   \n",
              "4  KBO  정규리그  2019 시즌  2019   9  29  일  롯데  키움히어로즈  부산 사직 야구장  구름조금  28.8℃   \n",
              "\n",
              "     관중수  홈팀순위  원정팀순위  \n",
              "0  24081   1.0      5  \n",
              "1   1842  10.0      3  \n",
              "2  10960   9.0      1  \n",
              "3  12042   4.0     10  \n",
              "4   3331  10.0      3  "
            ],
            "text/html": [
              "\n",
              "  <div id=\"df-4030dc11-fd70-41a8-9339-320f2b5503e3\">\n",
              "    <div class=\"colab-df-container\">\n",
              "      <div>\n",
              "<style scoped>\n",
              "    .dataframe tbody tr th:only-of-type {\n",
              "        vertical-align: middle;\n",
              "    }\n",
              "\n",
              "    .dataframe tbody tr th {\n",
              "        vertical-align: top;\n",
              "    }\n",
              "\n",
              "    .dataframe thead th {\n",
              "        text-align: right;\n",
              "    }\n",
              "</style>\n",
              "<table border=\"1\" class=\"dataframe\">\n",
              "  <thead>\n",
              "    <tr style=\"text-align: right;\">\n",
              "      <th></th>\n",
              "      <th>단체</th>\n",
              "      <th>리그</th>\n",
              "      <th>시즌</th>\n",
              "      <th>연도</th>\n",
              "      <th>월</th>\n",
              "      <th>일</th>\n",
              "      <th>요일</th>\n",
              "      <th>홈팀</th>\n",
              "      <th>원정팀</th>\n",
              "      <th>경기장</th>\n",
              "      <th>날씨</th>\n",
              "      <th>평균기온</th>\n",
              "      <th>관중수</th>\n",
              "      <th>홈팀순위</th>\n",
              "      <th>원정팀순위</th>\n",
              "    </tr>\n",
              "  </thead>\n",
              "  <tbody>\n",
              "    <tr>\n",
              "      <th>0</th>\n",
              "      <td>KBO</td>\n",
              "      <td>정규리그</td>\n",
              "      <td>2019 시즌</td>\n",
              "      <td>2019</td>\n",
              "      <td>10</td>\n",
              "      <td>1</td>\n",
              "      <td>화</td>\n",
              "      <td>두산</td>\n",
              "      <td>NC</td>\n",
              "      <td>서울 잠실 야구장</td>\n",
              "      <td>구름많음</td>\n",
              "      <td>28.2℃</td>\n",
              "      <td>24081</td>\n",
              "      <td>1.0</td>\n",
              "      <td>5</td>\n",
              "    </tr>\n",
              "    <tr>\n",
              "      <th>1</th>\n",
              "      <td>KBO</td>\n",
              "      <td>정규리그</td>\n",
              "      <td>2019 시즌</td>\n",
              "      <td>2019</td>\n",
              "      <td>10</td>\n",
              "      <td>1</td>\n",
              "      <td>화</td>\n",
              "      <td>롯데</td>\n",
              "      <td>키움히어로즈</td>\n",
              "      <td>부산 사직 야구장</td>\n",
              "      <td>비</td>\n",
              "      <td>23.3℃</td>\n",
              "      <td>1842</td>\n",
              "      <td>10.0</td>\n",
              "      <td>3</td>\n",
              "    </tr>\n",
              "    <tr>\n",
              "      <th>2</th>\n",
              "      <td>KBO</td>\n",
              "      <td>정규리그</td>\n",
              "      <td>2019 시즌</td>\n",
              "      <td>2019</td>\n",
              "      <td>9</td>\n",
              "      <td>30</td>\n",
              "      <td>월</td>\n",
              "      <td>한화</td>\n",
              "      <td>SK</td>\n",
              "      <td>대전한밭종합운동장</td>\n",
              "      <td>맑음</td>\n",
              "      <td>29.1℃</td>\n",
              "      <td>10960</td>\n",
              "      <td>9.0</td>\n",
              "      <td>1</td>\n",
              "    </tr>\n",
              "    <tr>\n",
              "      <th>3</th>\n",
              "      <td>KBO</td>\n",
              "      <td>정규리그</td>\n",
              "      <td>2019 시즌</td>\n",
              "      <td>2019</td>\n",
              "      <td>9</td>\n",
              "      <td>30</td>\n",
              "      <td>월</td>\n",
              "      <td>LG</td>\n",
              "      <td>롯데</td>\n",
              "      <td>서울 잠실 야구장</td>\n",
              "      <td>맑음</td>\n",
              "      <td>29.9℃</td>\n",
              "      <td>12042</td>\n",
              "      <td>4.0</td>\n",
              "      <td>10</td>\n",
              "    </tr>\n",
              "    <tr>\n",
              "      <th>4</th>\n",
              "      <td>KBO</td>\n",
              "      <td>정규리그</td>\n",
              "      <td>2019 시즌</td>\n",
              "      <td>2019</td>\n",
              "      <td>9</td>\n",
              "      <td>29</td>\n",
              "      <td>일</td>\n",
              "      <td>롯데</td>\n",
              "      <td>키움히어로즈</td>\n",
              "      <td>부산 사직 야구장</td>\n",
              "      <td>구름조금</td>\n",
              "      <td>28.8℃</td>\n",
              "      <td>3331</td>\n",
              "      <td>10.0</td>\n",
              "      <td>3</td>\n",
              "    </tr>\n",
              "  </tbody>\n",
              "</table>\n",
              "</div>\n",
              "      <button class=\"colab-df-convert\" onclick=\"convertToInteractive('df-4030dc11-fd70-41a8-9339-320f2b5503e3')\"\n",
              "              title=\"Convert this dataframe to an interactive table.\"\n",
              "              style=\"display:none;\">\n",
              "        \n",
              "  <svg xmlns=\"http://www.w3.org/2000/svg\" height=\"24px\"viewBox=\"0 0 24 24\"\n",
              "       width=\"24px\">\n",
              "    <path d=\"M0 0h24v24H0V0z\" fill=\"none\"/>\n",
              "    <path d=\"M18.56 5.44l.94 2.06.94-2.06 2.06-.94-2.06-.94-.94-2.06-.94 2.06-2.06.94zm-11 1L8.5 8.5l.94-2.06 2.06-.94-2.06-.94L8.5 2.5l-.94 2.06-2.06.94zm10 10l.94 2.06.94-2.06 2.06-.94-2.06-.94-.94-2.06-.94 2.06-2.06.94z\"/><path d=\"M17.41 7.96l-1.37-1.37c-.4-.4-.92-.59-1.43-.59-.52 0-1.04.2-1.43.59L10.3 9.45l-7.72 7.72c-.78.78-.78 2.05 0 2.83L4 21.41c.39.39.9.59 1.41.59.51 0 1.02-.2 1.41-.59l7.78-7.78 2.81-2.81c.8-.78.8-2.07 0-2.86zM5.41 20L4 18.59l7.72-7.72 1.47 1.35L5.41 20z\"/>\n",
              "  </svg>\n",
              "      </button>\n",
              "      \n",
              "  <style>\n",
              "    .colab-df-container {\n",
              "      display:flex;\n",
              "      flex-wrap:wrap;\n",
              "      gap: 12px;\n",
              "    }\n",
              "\n",
              "    .colab-df-convert {\n",
              "      background-color: #E8F0FE;\n",
              "      border: none;\n",
              "      border-radius: 50%;\n",
              "      cursor: pointer;\n",
              "      display: none;\n",
              "      fill: #1967D2;\n",
              "      height: 32px;\n",
              "      padding: 0 0 0 0;\n",
              "      width: 32px;\n",
              "    }\n",
              "\n",
              "    .colab-df-convert:hover {\n",
              "      background-color: #E2EBFA;\n",
              "      box-shadow: 0px 1px 2px rgba(60, 64, 67, 0.3), 0px 1px 3px 1px rgba(60, 64, 67, 0.15);\n",
              "      fill: #174EA6;\n",
              "    }\n",
              "\n",
              "    [theme=dark] .colab-df-convert {\n",
              "      background-color: #3B4455;\n",
              "      fill: #D2E3FC;\n",
              "    }\n",
              "\n",
              "    [theme=dark] .colab-df-convert:hover {\n",
              "      background-color: #434B5C;\n",
              "      box-shadow: 0px 1px 3px 1px rgba(0, 0, 0, 0.15);\n",
              "      filter: drop-shadow(0px 1px 2px rgba(0, 0, 0, 0.3));\n",
              "      fill: #FFFFFF;\n",
              "    }\n",
              "  </style>\n",
              "\n",
              "      <script>\n",
              "        const buttonEl =\n",
              "          document.querySelector('#df-4030dc11-fd70-41a8-9339-320f2b5503e3 button.colab-df-convert');\n",
              "        buttonEl.style.display =\n",
              "          google.colab.kernel.accessAllowed ? 'block' : 'none';\n",
              "\n",
              "        async function convertToInteractive(key) {\n",
              "          const element = document.querySelector('#df-4030dc11-fd70-41a8-9339-320f2b5503e3');\n",
              "          const dataTable =\n",
              "            await google.colab.kernel.invokeFunction('convertToInteractive',\n",
              "                                                     [key], {});\n",
              "          if (!dataTable) return;\n",
              "\n",
              "          const docLinkHtml = 'Like what you see? Visit the ' +\n",
              "            '<a target=\"_blank\" href=https://colab.research.google.com/notebooks/data_table.ipynb>data table notebook</a>'\n",
              "            + ' to learn more about interactive tables.';\n",
              "          element.innerHTML = '';\n",
              "          dataTable['output_type'] = 'display_data';\n",
              "          await google.colab.output.renderOutput(dataTable, element);\n",
              "          const docLink = document.createElement('div');\n",
              "          docLink.innerHTML = docLinkHtml;\n",
              "          element.appendChild(docLink);\n",
              "        }\n",
              "      </script>\n",
              "    </div>\n",
              "  </div>\n",
              "  "
            ]
          },
          "metadata": {},
          "execution_count": 236
        }
      ]
    },
    {
      "cell_type": "code",
      "source": [
        "Audience2['홈팀'][Audience2['홈팀'] == ' SSG'] = 'SSG'\n",
        "Audience2['원정팀'][Audience2['원정팀'] == ' SSG'] = 'SSG'\n",
        "tem2 = pd.merge(Audience2, ranking2, how = 'left')\n",
        "tem2.rename(columns = {'순위' : '홈팀순위'}, inplace = True)\n",
        "tem2 = pd.merge(tem2, ranking2.rename(columns = {'홈팀' : '원정팀'}), how = 'left')\n",
        "tem2.rename(columns = {'순위' : '원정팀순위'}, inplace = True)\n",
        "tem2.head()"
      ],
      "metadata": {
        "colab": {
          "base_uri": "https://localhost:8080/",
          "height": 206
        },
        "id": "w1xVaFW7tejQ",
        "outputId": "0db881c9-809e-40bc-af76-8eb701c931a9"
      },
      "execution_count": null,
      "outputs": [
        {
          "output_type": "execute_result",
          "data": {
            "text/plain": [
              "    단체    리그       시즌    연도  월   일 요일      홈팀  원정팀          경기장  날씨   평균기온  \\\n",
              "0  KBO  정규리그  2022 시즌  2022  5  31  화      두산  KIA    서울 잠실 야구장  맑음  27.2℃   \n",
              "1  KBO  정규리그  2022 시즌  2022  5  31  화     SSG   KT  인천SSG 랜더스필드  맑음  22.8℃   \n",
              "2  KBO  정규리그  2022 시즌  2022  5  31  화      롯데   LG    부산 사직 야구장  맑음  27.4℃   \n",
              "3  KBO  정규리그  2022 시즌  2022  5  31  화  키움히어로즈   삼성     서울고척스카이돔  맑음  27.2℃   \n",
              "4  KBO  정규리그  2022 시즌  2022  5  31  화      한화   NC    대전한밭종합운동장  맑음  28.7℃   \n",
              "\n",
              "     관중수  홈팀순위  원정팀순위  \n",
              "0  18194     5      3  \n",
              "1   7883     1      8  \n",
              "2   7815     7      4  \n",
              "3   4100     2      6  \n",
              "4   4269     9     10  "
            ],
            "text/html": [
              "\n",
              "  <div id=\"df-8889382b-0e67-420f-9025-4de804b839e5\">\n",
              "    <div class=\"colab-df-container\">\n",
              "      <div>\n",
              "<style scoped>\n",
              "    .dataframe tbody tr th:only-of-type {\n",
              "        vertical-align: middle;\n",
              "    }\n",
              "\n",
              "    .dataframe tbody tr th {\n",
              "        vertical-align: top;\n",
              "    }\n",
              "\n",
              "    .dataframe thead th {\n",
              "        text-align: right;\n",
              "    }\n",
              "</style>\n",
              "<table border=\"1\" class=\"dataframe\">\n",
              "  <thead>\n",
              "    <tr style=\"text-align: right;\">\n",
              "      <th></th>\n",
              "      <th>단체</th>\n",
              "      <th>리그</th>\n",
              "      <th>시즌</th>\n",
              "      <th>연도</th>\n",
              "      <th>월</th>\n",
              "      <th>일</th>\n",
              "      <th>요일</th>\n",
              "      <th>홈팀</th>\n",
              "      <th>원정팀</th>\n",
              "      <th>경기장</th>\n",
              "      <th>날씨</th>\n",
              "      <th>평균기온</th>\n",
              "      <th>관중수</th>\n",
              "      <th>홈팀순위</th>\n",
              "      <th>원정팀순위</th>\n",
              "    </tr>\n",
              "  </thead>\n",
              "  <tbody>\n",
              "    <tr>\n",
              "      <th>0</th>\n",
              "      <td>KBO</td>\n",
              "      <td>정규리그</td>\n",
              "      <td>2022 시즌</td>\n",
              "      <td>2022</td>\n",
              "      <td>5</td>\n",
              "      <td>31</td>\n",
              "      <td>화</td>\n",
              "      <td>두산</td>\n",
              "      <td>KIA</td>\n",
              "      <td>서울 잠실 야구장</td>\n",
              "      <td>맑음</td>\n",
              "      <td>27.2℃</td>\n",
              "      <td>18194</td>\n",
              "      <td>5</td>\n",
              "      <td>3</td>\n",
              "    </tr>\n",
              "    <tr>\n",
              "      <th>1</th>\n",
              "      <td>KBO</td>\n",
              "      <td>정규리그</td>\n",
              "      <td>2022 시즌</td>\n",
              "      <td>2022</td>\n",
              "      <td>5</td>\n",
              "      <td>31</td>\n",
              "      <td>화</td>\n",
              "      <td>SSG</td>\n",
              "      <td>KT</td>\n",
              "      <td>인천SSG 랜더스필드</td>\n",
              "      <td>맑음</td>\n",
              "      <td>22.8℃</td>\n",
              "      <td>7883</td>\n",
              "      <td>1</td>\n",
              "      <td>8</td>\n",
              "    </tr>\n",
              "    <tr>\n",
              "      <th>2</th>\n",
              "      <td>KBO</td>\n",
              "      <td>정규리그</td>\n",
              "      <td>2022 시즌</td>\n",
              "      <td>2022</td>\n",
              "      <td>5</td>\n",
              "      <td>31</td>\n",
              "      <td>화</td>\n",
              "      <td>롯데</td>\n",
              "      <td>LG</td>\n",
              "      <td>부산 사직 야구장</td>\n",
              "      <td>맑음</td>\n",
              "      <td>27.4℃</td>\n",
              "      <td>7815</td>\n",
              "      <td>7</td>\n",
              "      <td>4</td>\n",
              "    </tr>\n",
              "    <tr>\n",
              "      <th>3</th>\n",
              "      <td>KBO</td>\n",
              "      <td>정규리그</td>\n",
              "      <td>2022 시즌</td>\n",
              "      <td>2022</td>\n",
              "      <td>5</td>\n",
              "      <td>31</td>\n",
              "      <td>화</td>\n",
              "      <td>키움히어로즈</td>\n",
              "      <td>삼성</td>\n",
              "      <td>서울고척스카이돔</td>\n",
              "      <td>맑음</td>\n",
              "      <td>27.2℃</td>\n",
              "      <td>4100</td>\n",
              "      <td>2</td>\n",
              "      <td>6</td>\n",
              "    </tr>\n",
              "    <tr>\n",
              "      <th>4</th>\n",
              "      <td>KBO</td>\n",
              "      <td>정규리그</td>\n",
              "      <td>2022 시즌</td>\n",
              "      <td>2022</td>\n",
              "      <td>5</td>\n",
              "      <td>31</td>\n",
              "      <td>화</td>\n",
              "      <td>한화</td>\n",
              "      <td>NC</td>\n",
              "      <td>대전한밭종합운동장</td>\n",
              "      <td>맑음</td>\n",
              "      <td>28.7℃</td>\n",
              "      <td>4269</td>\n",
              "      <td>9</td>\n",
              "      <td>10</td>\n",
              "    </tr>\n",
              "  </tbody>\n",
              "</table>\n",
              "</div>\n",
              "      <button class=\"colab-df-convert\" onclick=\"convertToInteractive('df-8889382b-0e67-420f-9025-4de804b839e5')\"\n",
              "              title=\"Convert this dataframe to an interactive table.\"\n",
              "              style=\"display:none;\">\n",
              "        \n",
              "  <svg xmlns=\"http://www.w3.org/2000/svg\" height=\"24px\"viewBox=\"0 0 24 24\"\n",
              "       width=\"24px\">\n",
              "    <path d=\"M0 0h24v24H0V0z\" fill=\"none\"/>\n",
              "    <path d=\"M18.56 5.44l.94 2.06.94-2.06 2.06-.94-2.06-.94-.94-2.06-.94 2.06-2.06.94zm-11 1L8.5 8.5l.94-2.06 2.06-.94-2.06-.94L8.5 2.5l-.94 2.06-2.06.94zm10 10l.94 2.06.94-2.06 2.06-.94-2.06-.94-.94-2.06-.94 2.06-2.06.94z\"/><path d=\"M17.41 7.96l-1.37-1.37c-.4-.4-.92-.59-1.43-.59-.52 0-1.04.2-1.43.59L10.3 9.45l-7.72 7.72c-.78.78-.78 2.05 0 2.83L4 21.41c.39.39.9.59 1.41.59.51 0 1.02-.2 1.41-.59l7.78-7.78 2.81-2.81c.8-.78.8-2.07 0-2.86zM5.41 20L4 18.59l7.72-7.72 1.47 1.35L5.41 20z\"/>\n",
              "  </svg>\n",
              "      </button>\n",
              "      \n",
              "  <style>\n",
              "    .colab-df-container {\n",
              "      display:flex;\n",
              "      flex-wrap:wrap;\n",
              "      gap: 12px;\n",
              "    }\n",
              "\n",
              "    .colab-df-convert {\n",
              "      background-color: #E8F0FE;\n",
              "      border: none;\n",
              "      border-radius: 50%;\n",
              "      cursor: pointer;\n",
              "      display: none;\n",
              "      fill: #1967D2;\n",
              "      height: 32px;\n",
              "      padding: 0 0 0 0;\n",
              "      width: 32px;\n",
              "    }\n",
              "\n",
              "    .colab-df-convert:hover {\n",
              "      background-color: #E2EBFA;\n",
              "      box-shadow: 0px 1px 2px rgba(60, 64, 67, 0.3), 0px 1px 3px 1px rgba(60, 64, 67, 0.15);\n",
              "      fill: #174EA6;\n",
              "    }\n",
              "\n",
              "    [theme=dark] .colab-df-convert {\n",
              "      background-color: #3B4455;\n",
              "      fill: #D2E3FC;\n",
              "    }\n",
              "\n",
              "    [theme=dark] .colab-df-convert:hover {\n",
              "      background-color: #434B5C;\n",
              "      box-shadow: 0px 1px 3px 1px rgba(0, 0, 0, 0.15);\n",
              "      filter: drop-shadow(0px 1px 2px rgba(0, 0, 0, 0.3));\n",
              "      fill: #FFFFFF;\n",
              "    }\n",
              "  </style>\n",
              "\n",
              "      <script>\n",
              "        const buttonEl =\n",
              "          document.querySelector('#df-8889382b-0e67-420f-9025-4de804b839e5 button.colab-df-convert');\n",
              "        buttonEl.style.display =\n",
              "          google.colab.kernel.accessAllowed ? 'block' : 'none';\n",
              "\n",
              "        async function convertToInteractive(key) {\n",
              "          const element = document.querySelector('#df-8889382b-0e67-420f-9025-4de804b839e5');\n",
              "          const dataTable =\n",
              "            await google.colab.kernel.invokeFunction('convertToInteractive',\n",
              "                                                     [key], {});\n",
              "          if (!dataTable) return;\n",
              "\n",
              "          const docLinkHtml = 'Like what you see? Visit the ' +\n",
              "            '<a target=\"_blank\" href=https://colab.research.google.com/notebooks/data_table.ipynb>data table notebook</a>'\n",
              "            + ' to learn more about interactive tables.';\n",
              "          element.innerHTML = '';\n",
              "          dataTable['output_type'] = 'display_data';\n",
              "          await google.colab.output.renderOutput(dataTable, element);\n",
              "          const docLink = document.createElement('div');\n",
              "          docLink.innerHTML = docLinkHtml;\n",
              "          element.appendChild(docLink);\n",
              "        }\n",
              "      </script>\n",
              "    </div>\n",
              "  </div>\n",
              "  "
            ]
          },
          "metadata": {},
          "execution_count": 237
        }
      ]
    },
    {
      "cell_type": "code",
      "source": [
        "tem1.dropna(axis=0, inplace = True)\n",
        "tem1.info()"
      ],
      "metadata": {
        "colab": {
          "base_uri": "https://localhost:8080/"
        },
        "id": "NqVTTWNTu-KE",
        "outputId": "cf894ffa-3d11-41c6-bd16-74ed8c5c6e68"
      },
      "execution_count": null,
      "outputs": [
        {
          "output_type": "stream",
          "name": "stdout",
          "text": [
            "<class 'pandas.core.frame.DataFrame'>\n",
            "Int64Index: 2307 entries, 0 to 2307\n",
            "Data columns (total 15 columns):\n",
            " #   Column  Non-Null Count  Dtype  \n",
            "---  ------  --------------  -----  \n",
            " 0   단체      2307 non-null   object \n",
            " 1   리그      2307 non-null   object \n",
            " 2   시즌      2307 non-null   object \n",
            " 3   연도      2307 non-null   int64  \n",
            " 4   월       2307 non-null   int64  \n",
            " 5   일       2307 non-null   int64  \n",
            " 6   요일      2307 non-null   object \n",
            " 7   홈팀      2307 non-null   object \n",
            " 8   원정팀     2307 non-null   object \n",
            " 9   경기장     2307 non-null   object \n",
            " 10  날씨      2307 non-null   object \n",
            " 11  평균기온    2307 non-null   object \n",
            " 12  관중수     2307 non-null   int64  \n",
            " 13  홈팀순위    2307 non-null   float64\n",
            " 14  원정팀순위   2307 non-null   int64  \n",
            "dtypes: float64(1), int64(5), object(9)\n",
            "memory usage: 288.4+ KB\n"
          ]
        }
      ]
    },
    {
      "cell_type": "code",
      "source": [
        "tem2.info()"
      ],
      "metadata": {
        "colab": {
          "base_uri": "https://localhost:8080/"
        },
        "id": "IqfW0CkYqlXo",
        "outputId": "042efa1a-6832-4804-b324-7a19e640502d"
      },
      "execution_count": null,
      "outputs": [
        {
          "output_type": "stream",
          "name": "stdout",
          "text": [
            "<class 'pandas.core.frame.DataFrame'>\n",
            "Int64Index: 255 entries, 0 to 254\n",
            "Data columns (total 15 columns):\n",
            " #   Column  Non-Null Count  Dtype \n",
            "---  ------  --------------  ----- \n",
            " 0   단체      255 non-null    object\n",
            " 1   리그      255 non-null    object\n",
            " 2   시즌      255 non-null    object\n",
            " 3   연도      255 non-null    int64 \n",
            " 4   월       255 non-null    int64 \n",
            " 5   일       255 non-null    int64 \n",
            " 6   요일      255 non-null    object\n",
            " 7   홈팀      255 non-null    object\n",
            " 8   원정팀     255 non-null    object\n",
            " 9   경기장     255 non-null    object\n",
            " 10  날씨      150 non-null    object\n",
            " 11  평균기온    150 non-null    object\n",
            " 12  관중수     255 non-null    int64 \n",
            " 13  홈팀순위    255 non-null    int64 \n",
            " 14  원정팀순위   255 non-null    int64 \n",
            "dtypes: int64(6), object(9)\n",
            "memory usage: 31.9+ KB\n"
          ]
        }
      ]
    },
    {
      "cell_type": "code",
      "source": [
        "dat = pd.concat([tem1, tem2])\n",
        "\n",
        "dat['홈팀'][dat['홈팀'] == '넥센'] = '키움히어로즈'\n",
        "dat['원정팀'][dat['원정팀'] == '넥센'] = '키움히어로즈'\n",
        "\n",
        "dat['홈팀'][dat['홈팀'] == 'SK'] = 'SSG'\n",
        "dat['원정팀'][dat['원정팀'] == 'SK'] = 'SSG'\n",
        "\n",
        "dat['평균기온'] = (dat['평균기온'].str.extract('([\\d.]+)'))\n",
        "dat['평균기온'] = dat['평균기온'].astype(float)\n",
        "\n",
        "dat.drop(['단체', '리그', '시즌', '경기장', '일'], axis = 1, inplace = True)\n",
        "dat.drop(dat['관중수'][dat['관중수'] == 0].index, inplace = True)\n",
        "dat.head()"
      ],
      "metadata": {
        "id": "02q2ilvY2ig_",
        "colab": {
          "base_uri": "https://localhost:8080/",
          "height": 206
        },
        "outputId": "5435a80e-90db-4d8c-fa65-9d425e6352ea"
      },
      "execution_count": null,
      "outputs": [
        {
          "output_type": "execute_result",
          "data": {
            "text/plain": [
              "     연도   월 요일  홈팀     원정팀    날씨  평균기온    관중수  홈팀순위  원정팀순위\n",
              "0  2019  10  화  두산      NC  구름많음  28.2  24081   1.0      5\n",
              "1  2019  10  화  롯데  키움히어로즈     비  23.3   1842  10.0      3\n",
              "2  2019   9  월  한화     SSG    맑음  29.1  10960   9.0      1\n",
              "3  2019   9  월  LG      롯데    맑음  29.9  12042   4.0     10\n",
              "4  2019   9  일  롯데  키움히어로즈  구름조금  28.8   3331  10.0      3"
            ],
            "text/html": [
              "\n",
              "  <div id=\"df-c6da6643-ad0b-4db5-b6a2-010a9ad528ab\">\n",
              "    <div class=\"colab-df-container\">\n",
              "      <div>\n",
              "<style scoped>\n",
              "    .dataframe tbody tr th:only-of-type {\n",
              "        vertical-align: middle;\n",
              "    }\n",
              "\n",
              "    .dataframe tbody tr th {\n",
              "        vertical-align: top;\n",
              "    }\n",
              "\n",
              "    .dataframe thead th {\n",
              "        text-align: right;\n",
              "    }\n",
              "</style>\n",
              "<table border=\"1\" class=\"dataframe\">\n",
              "  <thead>\n",
              "    <tr style=\"text-align: right;\">\n",
              "      <th></th>\n",
              "      <th>연도</th>\n",
              "      <th>월</th>\n",
              "      <th>요일</th>\n",
              "      <th>홈팀</th>\n",
              "      <th>원정팀</th>\n",
              "      <th>날씨</th>\n",
              "      <th>평균기온</th>\n",
              "      <th>관중수</th>\n",
              "      <th>홈팀순위</th>\n",
              "      <th>원정팀순위</th>\n",
              "    </tr>\n",
              "  </thead>\n",
              "  <tbody>\n",
              "    <tr>\n",
              "      <th>0</th>\n",
              "      <td>2019</td>\n",
              "      <td>10</td>\n",
              "      <td>화</td>\n",
              "      <td>두산</td>\n",
              "      <td>NC</td>\n",
              "      <td>구름많음</td>\n",
              "      <td>28.2</td>\n",
              "      <td>24081</td>\n",
              "      <td>1.0</td>\n",
              "      <td>5</td>\n",
              "    </tr>\n",
              "    <tr>\n",
              "      <th>1</th>\n",
              "      <td>2019</td>\n",
              "      <td>10</td>\n",
              "      <td>화</td>\n",
              "      <td>롯데</td>\n",
              "      <td>키움히어로즈</td>\n",
              "      <td>비</td>\n",
              "      <td>23.3</td>\n",
              "      <td>1842</td>\n",
              "      <td>10.0</td>\n",
              "      <td>3</td>\n",
              "    </tr>\n",
              "    <tr>\n",
              "      <th>2</th>\n",
              "      <td>2019</td>\n",
              "      <td>9</td>\n",
              "      <td>월</td>\n",
              "      <td>한화</td>\n",
              "      <td>SSG</td>\n",
              "      <td>맑음</td>\n",
              "      <td>29.1</td>\n",
              "      <td>10960</td>\n",
              "      <td>9.0</td>\n",
              "      <td>1</td>\n",
              "    </tr>\n",
              "    <tr>\n",
              "      <th>3</th>\n",
              "      <td>2019</td>\n",
              "      <td>9</td>\n",
              "      <td>월</td>\n",
              "      <td>LG</td>\n",
              "      <td>롯데</td>\n",
              "      <td>맑음</td>\n",
              "      <td>29.9</td>\n",
              "      <td>12042</td>\n",
              "      <td>4.0</td>\n",
              "      <td>10</td>\n",
              "    </tr>\n",
              "    <tr>\n",
              "      <th>4</th>\n",
              "      <td>2019</td>\n",
              "      <td>9</td>\n",
              "      <td>일</td>\n",
              "      <td>롯데</td>\n",
              "      <td>키움히어로즈</td>\n",
              "      <td>구름조금</td>\n",
              "      <td>28.8</td>\n",
              "      <td>3331</td>\n",
              "      <td>10.0</td>\n",
              "      <td>3</td>\n",
              "    </tr>\n",
              "  </tbody>\n",
              "</table>\n",
              "</div>\n",
              "      <button class=\"colab-df-convert\" onclick=\"convertToInteractive('df-c6da6643-ad0b-4db5-b6a2-010a9ad528ab')\"\n",
              "              title=\"Convert this dataframe to an interactive table.\"\n",
              "              style=\"display:none;\">\n",
              "        \n",
              "  <svg xmlns=\"http://www.w3.org/2000/svg\" height=\"24px\"viewBox=\"0 0 24 24\"\n",
              "       width=\"24px\">\n",
              "    <path d=\"M0 0h24v24H0V0z\" fill=\"none\"/>\n",
              "    <path d=\"M18.56 5.44l.94 2.06.94-2.06 2.06-.94-2.06-.94-.94-2.06-.94 2.06-2.06.94zm-11 1L8.5 8.5l.94-2.06 2.06-.94-2.06-.94L8.5 2.5l-.94 2.06-2.06.94zm10 10l.94 2.06.94-2.06 2.06-.94-2.06-.94-.94-2.06-.94 2.06-2.06.94z\"/><path d=\"M17.41 7.96l-1.37-1.37c-.4-.4-.92-.59-1.43-.59-.52 0-1.04.2-1.43.59L10.3 9.45l-7.72 7.72c-.78.78-.78 2.05 0 2.83L4 21.41c.39.39.9.59 1.41.59.51 0 1.02-.2 1.41-.59l7.78-7.78 2.81-2.81c.8-.78.8-2.07 0-2.86zM5.41 20L4 18.59l7.72-7.72 1.47 1.35L5.41 20z\"/>\n",
              "  </svg>\n",
              "      </button>\n",
              "      \n",
              "  <style>\n",
              "    .colab-df-container {\n",
              "      display:flex;\n",
              "      flex-wrap:wrap;\n",
              "      gap: 12px;\n",
              "    }\n",
              "\n",
              "    .colab-df-convert {\n",
              "      background-color: #E8F0FE;\n",
              "      border: none;\n",
              "      border-radius: 50%;\n",
              "      cursor: pointer;\n",
              "      display: none;\n",
              "      fill: #1967D2;\n",
              "      height: 32px;\n",
              "      padding: 0 0 0 0;\n",
              "      width: 32px;\n",
              "    }\n",
              "\n",
              "    .colab-df-convert:hover {\n",
              "      background-color: #E2EBFA;\n",
              "      box-shadow: 0px 1px 2px rgba(60, 64, 67, 0.3), 0px 1px 3px 1px rgba(60, 64, 67, 0.15);\n",
              "      fill: #174EA6;\n",
              "    }\n",
              "\n",
              "    [theme=dark] .colab-df-convert {\n",
              "      background-color: #3B4455;\n",
              "      fill: #D2E3FC;\n",
              "    }\n",
              "\n",
              "    [theme=dark] .colab-df-convert:hover {\n",
              "      background-color: #434B5C;\n",
              "      box-shadow: 0px 1px 3px 1px rgba(0, 0, 0, 0.15);\n",
              "      filter: drop-shadow(0px 1px 2px rgba(0, 0, 0, 0.3));\n",
              "      fill: #FFFFFF;\n",
              "    }\n",
              "  </style>\n",
              "\n",
              "      <script>\n",
              "        const buttonEl =\n",
              "          document.querySelector('#df-c6da6643-ad0b-4db5-b6a2-010a9ad528ab button.colab-df-convert');\n",
              "        buttonEl.style.display =\n",
              "          google.colab.kernel.accessAllowed ? 'block' : 'none';\n",
              "\n",
              "        async function convertToInteractive(key) {\n",
              "          const element = document.querySelector('#df-c6da6643-ad0b-4db5-b6a2-010a9ad528ab');\n",
              "          const dataTable =\n",
              "            await google.colab.kernel.invokeFunction('convertToInteractive',\n",
              "                                                     [key], {});\n",
              "          if (!dataTable) return;\n",
              "\n",
              "          const docLinkHtml = 'Like what you see? Visit the ' +\n",
              "            '<a target=\"_blank\" href=https://colab.research.google.com/notebooks/data_table.ipynb>data table notebook</a>'\n",
              "            + ' to learn more about interactive tables.';\n",
              "          element.innerHTML = '';\n",
              "          dataTable['output_type'] = 'display_data';\n",
              "          await google.colab.output.renderOutput(dataTable, element);\n",
              "          const docLink = document.createElement('div');\n",
              "          docLink.innerHTML = docLinkHtml;\n",
              "          element.appendChild(docLink);\n",
              "        }\n",
              "      </script>\n",
              "    </div>\n",
              "  </div>\n",
              "  "
            ]
          },
          "metadata": {},
          "execution_count": 240
        }
      ]
    },
    {
      "cell_type": "code",
      "source": [
        "dat.groupby('연도')['관중수'].mean()"
      ],
      "metadata": {
        "colab": {
          "base_uri": "https://localhost:8080/"
        },
        "id": "d5qfK6z7A03f",
        "outputId": "c86b8093-4b81-4a12-eebf-0933b8644233"
      },
      "execution_count": null,
      "outputs": [
        {
          "output_type": "execute_result",
          "data": {
            "text/plain": [
              "연도\n",
              "2017    11667.622222\n",
              "2018    11217.273481\n",
              "2019    10122.212291\n",
              "2022     8303.018182\n",
              "Name: 관중수, dtype: float64"
            ]
          },
          "metadata": {},
          "execution_count": 241
        }
      ]
    },
    {
      "cell_type": "code",
      "source": [
        "plt.figure(figsize=[10,6])\n",
        "plt.title('The number of spectators', color='#189AB4', fontsize=30)\n",
        "plt.barh(['2017', '2018', '2019', '2022'], dat.groupby('연도')['관중수'].mean(), color='slateblue')\n",
        "plt.box(False)\n",
        "plt.show()"
      ],
      "metadata": {
        "colab": {
          "base_uri": "https://localhost:8080/",
          "height": 403
        },
        "id": "cS_DcXIGBj8J",
        "outputId": "aff3114c-27bf-4121-97ee-e04c5faa1a6c"
      },
      "execution_count": null,
      "outputs": [
        {
          "output_type": "display_data",
          "data": {
            "text/plain": [
              "<Figure size 720x432 with 1 Axes>"
            ],
            "image/png": "[encoded data removed]"
          },
          "metadata": {
            "needs_background": "light"
          }
        }
      ]
    },
    {
      "cell_type": "code",
      "source": [
        "plt.figure(figsize=[10,6])\n",
        "plt.title('Spectators about month', color='#189AB4', fontsize=30)\n",
        "plt.bar(dat.groupby('월')['관중수'].mean().index, dat.groupby('월')['관중수'].mean(), color='slateblue')\n",
        "plt.box(False)\n",
        "plt.show()"
      ],
      "metadata": {
        "colab": {
          "base_uri": "https://localhost:8080/",
          "height": 403
        },
        "id": "6xO0D4-eQjMg",
        "outputId": "6378afc2-0d95-4011-c9dc-58ce3be1af93"
      },
      "execution_count": null,
      "outputs": [
        {
          "output_type": "display_data",
          "data": {
            "text/plain": [
              "<Figure size 720x432 with 1 Axes>"
            ],
            "image/png": "[encoded data removed]"
          },
          "metadata": {
            "needs_background": "light"
          }
        }
      ]
    },
    {
      "cell_type": "code",
      "source": [
        "dat.groupby('요일')['관중수'].mean()"
      ],
      "metadata": {
        "colab": {
          "base_uri": "https://localhost:8080/"
        },
        "id": "H-HymQcoQoCN",
        "outputId": "b9b19155-fa1a-4b96-d70c-1e745695d2b5"
      },
      "execution_count": null,
      "outputs": [
        {
          "output_type": "execute_result",
          "data": {
            "text/plain": [
              "요일\n",
              "금    10574.875332\n",
              "목     8462.683673\n",
              "수     8329.315657\n",
              "월     9078.777778\n",
              "일    12631.464467\n",
              "토    15701.214976\n",
              "화     8630.261307\n",
              "Name: 관중수, dtype: float64"
            ]
          },
          "metadata": {},
          "execution_count": 244
        }
      ]
    },
    {
      "cell_type": "code",
      "source": [
        "plt.figure(figsize=[10,6])\n",
        "plt.title('Spectators about week', color='#189AB4', fontsize=30)\n",
        "plt.bar(['Mon', 'Tue', 'Wed', 'Thu', 'Fri', 'Sat', 'Sun'], [9078, 7975, 7794, 7970, 10053, 14914, 11806], color='slateblue')\n",
        "plt.box(False)\n",
        "plt.show()"
      ],
      "metadata": {
        "colab": {
          "base_uri": "https://localhost:8080/",
          "height": 403
        },
        "id": "Qff3vp2gSNVl",
        "outputId": "d1ae4e05-62ca-4bee-9ec5-d07097ce6878"
      },
      "execution_count": null,
      "outputs": [
        {
          "output_type": "display_data",
          "data": {
            "text/plain": [
              "<Figure size 720x432 with 1 Axes>"
            ],
            "image/png": "[encoded data removed]"
          },
          "metadata": {
            "needs_background": "light"
          }
        }
      ]
    },
    {
      "cell_type": "code",
      "source": [
        "plt.figure(figsize=[10,6])\n",
        "plt.title('Spectators about team ranking', color='#189AB4', fontsize=30)\n",
        "plt.bar(['1','2','3','4','5','6','7','8','9','10'], dat.groupby('홈팀순위')['관중수'].mean(), color='slateblue')\n",
        "plt.box(False)\n",
        "plt.show()"
      ],
      "metadata": {
        "colab": {
          "base_uri": "https://localhost:8080/",
          "height": 403
        },
        "id": "7Xk6Arl9gKJ1",
        "outputId": "15373363-729b-43b1-abfc-88b3e13dcf9f"
      },
      "execution_count": null,
      "outputs": [
        {
          "output_type": "display_data",
          "data": {
            "text/plain": [
              "<Figure size 720x432 with 1 Axes>"
            ],
            "image/png": "[encoded data removed]"
          },
          "metadata": {
            "needs_background": "light"
          }
        }
      ]
    },
    {
      "cell_type": "code",
      "source": [
        "plt.figure(figsize=[10,6])\n",
        "team = ['KIA', 'KT', 'LG', 'NC', 'SSG', 'Doosan', 'Lotte', 'Samsung', 'Hero', 'hanwha']\n",
        "plt.title('2017', color='#189AB4', fontsize=30)\n",
        "colors = ['darkviolet', 'red', 'slateblue', 'slateblue', 'slateblue', 'blue', 'blue', 'pink', 'slateblue', 'pink']\n",
        "plt.bar(team , dat[dat['연도'] == 2017].groupby('홈팀')['관중수'].mean(), color=colors)\n",
        "plt.box(False)\n",
        "plt.show()"
      ],
      "metadata": {
        "colab": {
          "base_uri": "https://localhost:8080/",
          "height": 403
        },
        "id": "BBJHojnUF4Gf",
        "outputId": "04f94395-3e11-4884-8486-ec3ed7ad9826"
      },
      "execution_count": null,
      "outputs": [
        {
          "output_type": "display_data",
          "data": {
            "text/plain": [
              "<Figure size 720x432 with 1 Axes>"
            ],
            "image/png": "[encoded data removed]"
          },
          "metadata": {
            "needs_background": "light"
          }
        }
      ]
    },
    {
      "cell_type": "code",
      "source": [
        "plt.figure(figsize=[10,6])\n",
        "team = ['KIA', 'KT', 'LG', 'NC', 'SSG', 'Doosan', 'Lotte', 'Samsung', 'Hero', 'hanwha']\n",
        "plt.title('2018', color='#189AB4', fontsize=30)\n",
        "colors = ['slateblue', 'pink', 'pink', 'red', 'darkviolet', 'blue', 'slateblue', 'slateblue', 'slateblue', 'blue']\n",
        "plt.bar(team , dat[dat['연도'] == 2018].groupby('홈팀')['관중수'].mean(), color=colors)\n",
        "plt.box(False)\n",
        "plt.show()"
      ],
      "metadata": {
        "colab": {
          "base_uri": "https://localhost:8080/",
          "height": 403
        },
        "id": "ixdonOEjImF9",
        "outputId": "1573ad96-b40b-4e51-c50f-1869b3462e13"
      },
      "execution_count": null,
      "outputs": [
        {
          "output_type": "display_data",
          "data": {
            "text/plain": [
              "<Figure size 720x432 with 1 Axes>"
            ],
            "image/png": "[encoded data removed]"
          },
          "metadata": {
            "needs_background": "light"
          }
        }
      ]
    },
    {
      "cell_type": "code",
      "source": [
        "plt.figure(figsize=[10,6])\n",
        "team = ['KIA', 'KT', 'LG', 'NC', 'SSG', 'Doosan', 'Lotte', 'Samsung', 'Hero', 'hanwha']\n",
        "plt.title('2019', color='#189AB4', fontsize=30)\n",
        "colors = ['slateblue', 'slateblue', 'slateblue', 'slateblue', 'blue', 'darkviolet', 'red', 'pink', 'blue', 'pink']\n",
        "plt.bar(team , dat[dat['연도'] == 2019].groupby('홈팀')['관중수'].mean(), color=colors)\n",
        "plt.box(False)\n",
        "plt.show()"
      ],
      "metadata": {
        "colab": {
          "base_uri": "https://localhost:8080/",
          "height": 403
        },
        "id": "m0B5riS2InW5",
        "outputId": "c7ea6f86-4e5e-49b8-e7d1-6f53fcbd1580"
      },
      "execution_count": null,
      "outputs": [
        {
          "output_type": "display_data",
          "data": {
            "text/plain": [
              "<Figure size 720x432 with 1 Axes>"
            ],
            "image/png": "[encoded data removed]"
          },
          "metadata": {
            "needs_background": "light"
          }
        }
      ]
    },
    {
      "cell_type": "code",
      "source": [
        "plt.figure(figsize=[10,6])\n",
        "team = ['KIA', 'KT', 'LG', 'NC', 'SSG', 'Doosan', 'Lotte', 'Samsung', 'Hero', 'hanwha']\n",
        "plt.title('2022', color='#189AB4', fontsize=30)\n",
        "colors = ['slateblue', 'slateblue', 'blue', 'red', 'darkviolet', 'slateblue', 'pink', 'slateblue', 'blue', 'pink']\n",
        "plt.bar(team , dat[dat['연도'] == 2022].groupby('홈팀')['관중수'].mean(), color=colors)\n",
        "plt.box(False)\n",
        "plt.show()"
      ],
      "metadata": {
        "colab": {
          "base_uri": "https://localhost:8080/",
          "height": 403
        },
        "id": "2ahlD6jzInxN",
        "outputId": "f38416a5-f408-4a08-c6b3-a267e1f39c16"
      },
      "execution_count": null,
      "outputs": [
        {
          "output_type": "display_data",
          "data": {
            "text/plain": [
              "<Figure size 720x432 with 1 Axes>"
            ],
            "image/png": "[encoded data removed]"
          },
          "metadata": {
            "needs_background": "light"
          }
        }
      ]
    },
    {
      "cell_type": "code",
      "source": [
        "plt.figure(figsize=[10,6])\n",
        "team = ['KIA', 'KT', 'LG', 'NC', 'SSG', 'Doosan', 'Lotte', 'Samsung', 'Hero', 'hanwha']\n",
        "plt.title('Spectators to the visiting team', color='#189AB4', fontsize=30)\n",
        "plt.bar(team , dat.groupby('원정팀')['관중수'].mean(), color='slateblue')\n",
        "plt.box(False)\n",
        "plt.show()"
      ],
      "metadata": {
        "colab": {
          "base_uri": "https://localhost:8080/",
          "height": 403
        },
        "id": "NcwIkWaSMFlW",
        "outputId": "9c653e36-829c-476b-8efc-d103b248d008"
      },
      "execution_count": null,
      "outputs": [
        {
          "output_type": "display_data",
          "data": {
            "text/plain": [
              "<Figure size 720x432 with 1 Axes>"
            ],
            "image/png": "[encoded data removed]"
          },
          "metadata": {
            "needs_background": "light"
          }
        }
      ]
    },
    {
      "cell_type": "code",
      "source": [
        "team_mapping = {'KIA' : '1', '롯데' : '2', '한화' : '3', '삼성' : '4', 'LG' : '5', \n",
        "                '두산' : '6', 'SSG' : '7', 'NC' : '8', '키움히어로즈' : '9', 'KT' : '10'}\n",
        "\n",
        "week_mapping = {'월' : '0', '화' : '1', '수' : '2', '목' : '3', '금' : '4', '토' : '5', '일' : '6'}\n",
        "\n",
        "weather_mapping = {'맑음' : '0', '구름조금' : '1', '구름많음' : '2', '흐림' : '3', '비' : '4', np.NaN : '5'}"
      ],
      "metadata": {
        "id": "6PoSF2eVVsuI"
      },
      "execution_count": null,
      "outputs": []
    },
    {
      "cell_type": "code",
      "source": [
        "dat['홈팀'] = (dat['홈팀'].map(lambda x : team_mapping.get(x, x))).astype(int)\n",
        "dat['원정팀'] = (dat['원정팀'].map(lambda x : team_mapping.get(x, x))).astype(int)\n",
        "dat['요일'] = (dat['요일'].map(lambda x : week_mapping.get(x, x))).astype(int)\n",
        "dat['날씨'] = (dat['날씨'].map(lambda x : weather_mapping.get(x, x))).astype(int)\n",
        "dat.head()"
      ],
      "metadata": {
        "colab": {
          "base_uri": "https://localhost:8080/",
          "height": 206
        },
        "id": "-V0-BmG8Wt9G",
        "outputId": "6c21ff9e-d711-4392-bdbf-f40ea59b3ce4"
      },
      "execution_count": null,
      "outputs": [
        {
          "output_type": "execute_result",
          "data": {
            "text/plain": [
              "     연도   월  요일  홈팀  원정팀  날씨  평균기온    관중수  홈팀순위  원정팀순위\n",
              "0  2019  10   1   6    8   2  28.2  24081   1.0      5\n",
              "1  2019  10   1   2    9   4  23.3   1842  10.0      3\n",
              "2  2019   9   0   3    7   0  29.1  10960   9.0      1\n",
              "3  2019   9   0   5    2   0  29.9  12042   4.0     10\n",
              "4  2019   9   6   2    9   1  28.8   3331  10.0      3"
            ],
            "text/html": [
              "\n",
              "  <div id=\"df-9aa7283a-c792-438f-8302-deafc312b03a\">\n",
              "    <div class=\"colab-df-container\">\n",
              "      <div>\n",
              "<style scoped>\n",
              "    .dataframe tbody tr th:only-of-type {\n",
              "        vertical-align: middle;\n",
              "    }\n",
              "\n",
              "    .dataframe tbody tr th {\n",
              "        vertical-align: top;\n",
              "    }\n",
              "\n",
              "    .dataframe thead th {\n",
              "        text-align: right;\n",
              "    }\n",
              "</style>\n",
              "<table border=\"1\" class=\"dataframe\">\n",
              "  <thead>\n",
              "    <tr style=\"text-align: right;\">\n",
              "      <th></th>\n",
              "      <th>연도</th>\n",
              "      <th>월</th>\n",
              "      <th>요일</th>\n",
              "      <th>홈팀</th>\n",
              "      <th>원정팀</th>\n",
              "      <th>날씨</th>\n",
              "      <th>평균기온</th>\n",
              "      <th>관중수</th>\n",
              "      <th>홈팀순위</th>\n",
              "      <th>원정팀순위</th>\n",
              "    </tr>\n",
              "  </thead>\n",
              "  <tbody>\n",
              "    <tr>\n",
              "      <th>0</th>\n",
              "      <td>2019</td>\n",
              "      <td>10</td>\n",
              "      <td>1</td>\n",
              "      <td>6</td>\n",
              "      <td>8</td>\n",
              "      <td>2</td>\n",
              "      <td>28.2</td>\n",
              "      <td>24081</td>\n",
              "      <td>1.0</td>\n",
              "      <td>5</td>\n",
              "    </tr>\n",
              "    <tr>\n",
              "      <th>1</th>\n",
              "      <td>2019</td>\n",
              "      <td>10</td>\n",
              "      <td>1</td>\n",
              "      <td>2</td>\n",
              "      <td>9</td>\n",
              "      <td>4</td>\n",
              "      <td>23.3</td>\n",
              "      <td>1842</td>\n",
              "      <td>10.0</td>\n",
              "      <td>3</td>\n",
              "    </tr>\n",
              "    <tr>\n",
              "      <th>2</th>\n",
              "      <td>2019</td>\n",
              "      <td>9</td>\n",
              "      <td>0</td>\n",
              "      <td>3</td>\n",
              "      <td>7</td>\n",
              "      <td>0</td>\n",
              "      <td>29.1</td>\n",
              "      <td>10960</td>\n",
              "      <td>9.0</td>\n",
              "      <td>1</td>\n",
              "    </tr>\n",
              "    <tr>\n",
              "      <th>3</th>\n",
              "      <td>2019</td>\n",
              "      <td>9</td>\n",
              "      <td>0</td>\n",
              "      <td>5</td>\n",
              "      <td>2</td>\n",
              "      <td>0</td>\n",
              "      <td>29.9</td>\n",
              "      <td>12042</td>\n",
              "      <td>4.0</td>\n",
              "      <td>10</td>\n",
              "    </tr>\n",
              "    <tr>\n",
              "      <th>4</th>\n",
              "      <td>2019</td>\n",
              "      <td>9</td>\n",
              "      <td>6</td>\n",
              "      <td>2</td>\n",
              "      <td>9</td>\n",
              "      <td>1</td>\n",
              "      <td>28.8</td>\n",
              "      <td>3331</td>\n",
              "      <td>10.0</td>\n",
              "      <td>3</td>\n",
              "    </tr>\n",
              "  </tbody>\n",
              "</table>\n",
              "</div>\n",
              "      <button class=\"colab-df-convert\" onclick=\"convertToInteractive('df-9aa7283a-c792-438f-8302-deafc312b03a')\"\n",
              "              title=\"Convert this dataframe to an interactive table.\"\n",
              "              style=\"display:none;\">\n",
              "        \n",
              "  <svg xmlns=\"http://www.w3.org/2000/svg\" height=\"24px\"viewBox=\"0 0 24 24\"\n",
              "       width=\"24px\">\n",
              "    <path d=\"M0 0h24v24H0V0z\" fill=\"none\"/>\n",
              "    <path d=\"M18.56 5.44l.94 2.06.94-2.06 2.06-.94-2.06-.94-.94-2.06-.94 2.06-2.06.94zm-11 1L8.5 8.5l.94-2.06 2.06-.94-2.06-.94L8.5 2.5l-.94 2.06-2.06.94zm10 10l.94 2.06.94-2.06 2.06-.94-2.06-.94-.94-2.06-.94 2.06-2.06.94z\"/><path d=\"M17.41 7.96l-1.37-1.37c-.4-.4-.92-.59-1.43-.59-.52 0-1.04.2-1.43.59L10.3 9.45l-7.72 7.72c-.78.78-.78 2.05 0 2.83L4 21.41c.39.39.9.59 1.41.59.51 0 1.02-.2 1.41-.59l7.78-7.78 2.81-2.81c.8-.78.8-2.07 0-2.86zM5.41 20L4 18.59l7.72-7.72 1.47 1.35L5.41 20z\"/>\n",
              "  </svg>\n",
              "      </button>\n",
              "      \n",
              "  <style>\n",
              "    .colab-df-container {\n",
              "      display:flex;\n",
              "      flex-wrap:wrap;\n",
              "      gap: 12px;\n",
              "    }\n",
              "\n",
              "    .colab-df-convert {\n",
              "      background-color: #E8F0FE;\n",
              "      border: none;\n",
              "      border-radius: 50%;\n",
              "      cursor: pointer;\n",
              "      display: none;\n",
              "      fill: #1967D2;\n",
              "      height: 32px;\n",
              "      padding: 0 0 0 0;\n",
              "      width: 32px;\n",
              "    }\n",
              "\n",
              "    .colab-df-convert:hover {\n",
              "      background-color: #E2EBFA;\n",
              "      box-shadow: 0px 1px 2px rgba(60, 64, 67, 0.3), 0px 1px 3px 1px rgba(60, 64, 67, 0.15);\n",
              "      fill: #174EA6;\n",
              "    }\n",
              "\n",
              "    [theme=dark] .colab-df-convert {\n",
              "      background-color: #3B4455;\n",
              "      fill: #D2E3FC;\n",
              "    }\n",
              "\n",
              "    [theme=dark] .colab-df-convert:hover {\n",
              "      background-color: #434B5C;\n",
              "      box-shadow: 0px 1px 3px 1px rgba(0, 0, 0, 0.15);\n",
              "      filter: drop-shadow(0px 1px 2px rgba(0, 0, 0, 0.3));\n",
              "      fill: #FFFFFF;\n",
              "    }\n",
              "  </style>\n",
              "\n",
              "      <script>\n",
              "        const buttonEl =\n",
              "          document.querySelector('#df-9aa7283a-c792-438f-8302-deafc312b03a button.colab-df-convert');\n",
              "        buttonEl.style.display =\n",
              "          google.colab.kernel.accessAllowed ? 'block' : 'none';\n",
              "\n",
              "        async function convertToInteractive(key) {\n",
              "          const element = document.querySelector('#df-9aa7283a-c792-438f-8302-deafc312b03a');\n",
              "          const dataTable =\n",
              "            await google.colab.kernel.invokeFunction('convertToInteractive',\n",
              "                                                     [key], {});\n",
              "          if (!dataTable) return;\n",
              "\n",
              "          const docLinkHtml = 'Like what you see? Visit the ' +\n",
              "            '<a target=\"_blank\" href=https://colab.research.google.com/notebooks/data_table.ipynb>data table notebook</a>'\n",
              "            + ' to learn more about interactive tables.';\n",
              "          element.innerHTML = '';\n",
              "          dataTable['output_type'] = 'display_data';\n",
              "          await google.colab.output.renderOutput(dataTable, element);\n",
              "          const docLink = document.createElement('div');\n",
              "          docLink.innerHTML = docLinkHtml;\n",
              "          element.appendChild(docLink);\n",
              "        }\n",
              "      </script>\n",
              "    </div>\n",
              "  </div>\n",
              "  "
            ]
          },
          "metadata": {},
          "execution_count": 224
        }
      ]
    },
    {
      "cell_type": "code",
      "source": [
        "from sklearn.model_selection import train_test_split\n",
        "from lightgbm import LGBMRegressor\n",
        "from sklearn.metrics import mean_absolute_error\n",
        "\n",
        "target = dat['관중수']\n",
        "datas = dat.drop(['관중수'], axis = 1)\n",
        "\n",
        "x_train, x_test, y_train, y_test = train_test_split(datas, target, test_size=0.2, random_state=0)\n",
        "\n",
        "model = LGBMRegressor(random_state = 0)\n",
        "model.fit(x_train,y_train)\n",
        "\n",
        "pred = model.predict(x_test)\n",
        "mean_absolute_error(y_test,pred)"
      ],
      "metadata": {
        "colab": {
          "base_uri": "https://localhost:8080/"
        },
        "id": "gDbeuzv6WgMe",
        "outputId": "a99faf30-210c-4136-b421-866fa731a6a5"
      },
      "execution_count": null,
      "outputs": [
        {
          "output_type": "execute_result",
          "data": {
            "text/plain": [
              "2038.5321047636817"
            ]
          },
          "metadata": {},
          "execution_count": 225
        }
      ]
    },
    {
      "cell_type": "code",
      "source": [
        "plt.figure(figsize=(10,6))\n",
        "sns.scatterplot(x=pred, y=y_test)\n",
        "plt.title('Pred & Read_Y', color='#189AB4', fontsize=30)\n",
        "plt.xlabel('Pred', fontsize=20)\n",
        "plt.ylabel('Real_Y', fontsize=20)\n",
        "plt.box(False)\n",
        "plt.show()"
      ],
      "metadata": {
        "colab": {
          "base_uri": "https://localhost:8080/",
          "height": 427
        },
        "id": "e_lx-lN7dP_M",
        "outputId": "19a1afd0-5710-4044-89c2-32aa78d26680"
      },
      "execution_count": null,
      "outputs": [
        {
          "output_type": "display_data",
          "data": {
            "text/plain": [
              "<Figure size 720x432 with 1 Axes>"
            ],
            "image/png": "[encoded data removed]"
          },
          "metadata": {
            "needs_background": "light"
          }
        }
      ]
    },
    {
      "cell_type": "code",
      "source": [
        "pd.DataFrame(model.feature_importances_, index = x_train.columns, \n",
        "             columns = ['importance']).sort_values(by = 'importance', ascending = False)"
      ],
      "metadata": {
        "colab": {
          "base_uri": "https://localhost:8080/",
          "height": 332
        },
        "id": "BhnIEQSAd-Pq",
        "outputId": "a1b913f1-e648-4adc-beca-b3bcd2412336"
      },
      "execution_count": null,
      "outputs": [
        {
          "output_type": "execute_result",
          "data": {
            "text/plain": [
              "       importance\n",
              "평균기온          627\n",
              "홈팀            501\n",
              "월             329\n",
              "원정팀           328\n",
              "홈팀순위          299\n",
              "요일            260\n",
              "원정팀순위         256\n",
              "연도            235\n",
              "날씨            165"
            ],
            "text/html": [
              "\n",
              "  <div id=\"df-8cac75c4-a61b-4cf3-a795-4e584a4e0e4d\">\n",
              "    <div class=\"colab-df-container\">\n",
              "      <div>\n",
              "<style scoped>\n",
              "    .dataframe tbody tr th:only-of-type {\n",
              "        vertical-align: middle;\n",
              "    }\n",
              "\n",
              "    .dataframe tbody tr th {\n",
              "        vertical-align: top;\n",
              "    }\n",
              "\n",
              "    .dataframe thead th {\n",
              "        text-align: right;\n",
              "    }\n",
              "</style>\n",
              "<table border=\"1\" class=\"dataframe\">\n",
              "  <thead>\n",
              "    <tr style=\"text-align: right;\">\n",
              "      <th></th>\n",
              "      <th>importance</th>\n",
              "    </tr>\n",
              "  </thead>\n",
              "  <tbody>\n",
              "    <tr>\n",
              "      <th>평균기온</th>\n",
              "      <td>627</td>\n",
              "    </tr>\n",
              "    <tr>\n",
              "      <th>홈팀</th>\n",
              "      <td>501</td>\n",
              "    </tr>\n",
              "    <tr>\n",
              "      <th>월</th>\n",
              "      <td>329</td>\n",
              "    </tr>\n",
              "    <tr>\n",
              "      <th>원정팀</th>\n",
              "      <td>328</td>\n",
              "    </tr>\n",
              "    <tr>\n",
              "      <th>홈팀순위</th>\n",
              "      <td>299</td>\n",
              "    </tr>\n",
              "    <tr>\n",
              "      <th>요일</th>\n",
              "      <td>260</td>\n",
              "    </tr>\n",
              "    <tr>\n",
              "      <th>원정팀순위</th>\n",
              "      <td>256</td>\n",
              "    </tr>\n",
              "    <tr>\n",
              "      <th>연도</th>\n",
              "      <td>235</td>\n",
              "    </tr>\n",
              "    <tr>\n",
              "      <th>날씨</th>\n",
              "      <td>165</td>\n",
              "    </tr>\n",
              "  </tbody>\n",
              "</table>\n",
              "</div>\n",
              "      <button class=\"colab-df-convert\" onclick=\"convertToInteractive('df-8cac75c4-a61b-4cf3-a795-4e584a4e0e4d')\"\n",
              "              title=\"Convert this dataframe to an interactive table.\"\n",
              "              style=\"display:none;\">\n",
              "        \n",
              "  <svg xmlns=\"http://www.w3.org/2000/svg\" height=\"24px\"viewBox=\"0 0 24 24\"\n",
              "       width=\"24px\">\n",
              "    <path d=\"M0 0h24v24H0V0z\" fill=\"none\"/>\n",
              "    <path d=\"M18.56 5.44l.94 2.06.94-2.06 2.06-.94-2.06-.94-.94-2.06-.94 2.06-2.06.94zm-11 1L8.5 8.5l.94-2.06 2.06-.94-2.06-.94L8.5 2.5l-.94 2.06-2.06.94zm10 10l.94 2.06.94-2.06 2.06-.94-2.06-.94-.94-2.06-.94 2.06-2.06.94z\"/><path d=\"M17.41 7.96l-1.37-1.37c-.4-.4-.92-.59-1.43-.59-.52 0-1.04.2-1.43.59L10.3 9.45l-7.72 7.72c-.78.78-.78 2.05 0 2.83L4 21.41c.39.39.9.59 1.41.59.51 0 1.02-.2 1.41-.59l7.78-7.78 2.81-2.81c.8-.78.8-2.07 0-2.86zM5.41 20L4 18.59l7.72-7.72 1.47 1.35L5.41 20z\"/>\n",
              "  </svg>\n",
              "      </button>\n",
              "      \n",
              "  <style>\n",
              "    .colab-df-container {\n",
              "      display:flex;\n",
              "      flex-wrap:wrap;\n",
              "      gap: 12px;\n",
              "    }\n",
              "\n",
              "    .colab-df-convert {\n",
              "      background-color: #E8F0FE;\n",
              "      border: none;\n",
              "      border-radius: 50%;\n",
              "      cursor: pointer;\n",
              "      display: none;\n",
              "      fill: #1967D2;\n",
              "      height: 32px;\n",
              "      padding: 0 0 0 0;\n",
              "      width: 32px;\n",
              "    }\n",
              "\n",
              "    .colab-df-convert:hover {\n",
              "      background-color: #E2EBFA;\n",
              "      box-shadow: 0px 1px 2px rgba(60, 64, 67, 0.3), 0px 1px 3px 1px rgba(60, 64, 67, 0.15);\n",
              "      fill: #174EA6;\n",
              "    }\n",
              "\n",
              "    [theme=dark] .colab-df-convert {\n",
              "      background-color: #3B4455;\n",
              "      fill: #D2E3FC;\n",
              "    }\n",
              "\n",
              "    [theme=dark] .colab-df-convert:hover {\n",
              "      background-color: #434B5C;\n",
              "      box-shadow: 0px 1px 3px 1px rgba(0, 0, 0, 0.15);\n",
              "      filter: drop-shadow(0px 1px 2px rgba(0, 0, 0, 0.3));\n",
              "      fill: #FFFFFF;\n",
              "    }\n",
              "  </style>\n",
              "\n",
              "      <script>\n",
              "        const buttonEl =\n",
              "          document.querySelector('#df-8cac75c4-a61b-4cf3-a795-4e584a4e0e4d button.colab-df-convert');\n",
              "        buttonEl.style.display =\n",
              "          google.colab.kernel.accessAllowed ? 'block' : 'none';\n",
              "\n",
              "        async function convertToInteractive(key) {\n",
              "          const element = document.querySelector('#df-8cac75c4-a61b-4cf3-a795-4e584a4e0e4d');\n",
              "          const dataTable =\n",
              "            await google.colab.kernel.invokeFunction('convertToInteractive',\n",
              "                                                     [key], {});\n",
              "          if (!dataTable) return;\n",
              "\n",
              "          const docLinkHtml = 'Like what you see? Visit the ' +\n",
              "            '<a target=\"_blank\" href=https://colab.research.google.com/notebooks/data_table.ipynb>data table notebook</a>'\n",
              "            + ' to learn more about interactive tables.';\n",
              "          element.innerHTML = '';\n",
              "          dataTable['output_type'] = 'display_data';\n",
              "          await google.colab.output.renderOutput(dataTable, element);\n",
              "          const docLink = document.createElement('div');\n",
              "          docLink.innerHTML = docLinkHtml;\n",
              "          element.appendChild(docLink);\n",
              "        }\n",
              "      </script>\n",
              "    </div>\n",
              "  </div>\n",
              "  "
            ]
          },
          "metadata": {},
          "execution_count": 233
        }
      ]
    }
  ]
}