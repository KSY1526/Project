{
  "nbformat": 4,
  "nbformat_minor": 0,
  "metadata": {
    "colab": {
      "name": "gas_9.ipynb",
      "provenance": [],
      "collapsed_sections": [
        "iOfLlqY3UtSo",
        "9UMWISJ1UwZ2"
      ]
    },
    "kernelspec": {
      "name": "python3",
      "display_name": "Python 3"
    },
    "language_info": {
      "name": "python"
    }
  },
  "cells": [
    {
      "cell_type": "code",
      "metadata": {
        "colab": {
          "base_uri": "https://localhost:8080/"
        },
        "id": "jO-12F5fmorB",
        "outputId": "9d96cc87-c416-4285-ab9d-33fe1091df32"
      },
      "source": [
        "from google.colab import drive\n",
        "drive.mount('/content/drive')"
      ],
      "execution_count": null,
      "outputs": [
        {
          "output_type": "stream",
          "name": "stdout",
          "text": [
            "Mounted at /content/drive\n"
          ]
        }
      ]
    },
    {
      "cell_type": "markdown",
      "metadata": {
        "id": "3WwiE_dlmmPY"
      },
      "source": [
        "# 공통 코드"
      ]
    },
    {
      "cell_type": "code",
      "metadata": {
        "id": "GVYCh32VaiSH",
        "colab": {
          "base_uri": "https://localhost:8080/"
        },
        "outputId": "1382aa98-5203-4ee8-a362-4b36d97df288"
      },
      "source": [
        "import os\n",
        "import sys\n",
        "!pip install -r '/content/drive/MyDrive/gas/#requirements_GasDemand/requirements_GasDemand.txt' # drive path 수정\n",
        "!pip uninstall -y typing # this should avoid  AttributeError: type object 'Callable' has no attribute '_abc_registry'\n",
        "# !pip install  \"git+https://github.com/dreamquark-ai/tabnet.git@develop#egg=pytorch_tabnet\" --upgrade"
      ],
      "execution_count": null,
      "outputs": [
        {
          "output_type": "stream",
          "name": "stdout",
          "text": [
            "Requirement already satisfied: holidays in /usr/local/lib/python3.7/dist-packages (from -r /content/drive/MyDrive/gas/#requirements_GasDemand/requirements_GasDemand.txt (line 1)) (0.10.5.2)\n",
            "Requirement already satisfied: statsmodels==0.13.0 in /usr/local/lib/python3.7/dist-packages (from -r /content/drive/MyDrive/gas/#requirements_GasDemand/requirements_GasDemand.txt (line 2)) (0.13.0)\n",
            "Requirement already satisfied: scipy>=1.3 in /usr/local/lib/python3.7/dist-packages (from statsmodels==0.13.0->-r /content/drive/MyDrive/gas/#requirements_GasDemand/requirements_GasDemand.txt (line 2)) (1.4.1)\n",
            "Requirement already satisfied: numpy>=1.17 in /usr/local/lib/python3.7/dist-packages (from statsmodels==0.13.0->-r /content/drive/MyDrive/gas/#requirements_GasDemand/requirements_GasDemand.txt (line 2)) (1.19.5)\n",
            "Requirement already satisfied: pandas>=0.25 in /usr/local/lib/python3.7/dist-packages (from statsmodels==0.13.0->-r /content/drive/MyDrive/gas/#requirements_GasDemand/requirements_GasDemand.txt (line 2)) (1.1.5)\n",
            "Requirement already satisfied: patsy>=0.5.2 in /usr/local/lib/python3.7/dist-packages (from statsmodels==0.13.0->-r /content/drive/MyDrive/gas/#requirements_GasDemand/requirements_GasDemand.txt (line 2)) (0.5.2)\n",
            "Requirement already satisfied: pytz>=2017.2 in /usr/local/lib/python3.7/dist-packages (from pandas>=0.25->statsmodels==0.13.0->-r /content/drive/MyDrive/gas/#requirements_GasDemand/requirements_GasDemand.txt (line 2)) (2018.9)\n",
            "Requirement already satisfied: python-dateutil>=2.7.3 in /usr/local/lib/python3.7/dist-packages (from pandas>=0.25->statsmodels==0.13.0->-r /content/drive/MyDrive/gas/#requirements_GasDemand/requirements_GasDemand.txt (line 2)) (2.8.2)\n",
            "Requirement already satisfied: six in /usr/local/lib/python3.7/dist-packages (from patsy>=0.5.2->statsmodels==0.13.0->-r /content/drive/MyDrive/gas/#requirements_GasDemand/requirements_GasDemand.txt (line 2)) (1.15.0)\n",
            "Requirement already satisfied: korean-lunar-calendar in /usr/local/lib/python3.7/dist-packages (from holidays->-r /content/drive/MyDrive/gas/#requirements_GasDemand/requirements_GasDemand.txt (line 1)) (0.2.1)\n",
            "Requirement already satisfied: hijri-converter in /usr/local/lib/python3.7/dist-packages (from holidays->-r /content/drive/MyDrive/gas/#requirements_GasDemand/requirements_GasDemand.txt (line 1)) (2.2.2)\n",
            "Requirement already satisfied: convertdate>=2.3.0 in /usr/local/lib/python3.7/dist-packages (from holidays->-r /content/drive/MyDrive/gas/#requirements_GasDemand/requirements_GasDemand.txt (line 1)) (2.3.2)\n",
            "Requirement already satisfied: pymeeus<=1,>=0.3.13 in /usr/local/lib/python3.7/dist-packages (from convertdate>=2.3.0->holidays->-r /content/drive/MyDrive/gas/#requirements_GasDemand/requirements_GasDemand.txt (line 1)) (0.5.11)\n",
            "\u001b[33mWARNING: Skipping typing as it is not installed.\u001b[0m\n"
          ]
        }
      ]
    },
    {
      "cell_type": "code",
      "metadata": {
        "id": "x4lY0dx3YKTi"
      },
      "source": [
        "import warnings; warnings.filterwarnings(action='ignore')\n",
        "from typing import Dict, Tuple, Union, List\n",
        "from tqdm import tqdm\n",
        "\n",
        "import numpy as np\n",
        "import pandas as pd\n",
        "from datetime import datetime\n",
        "import torch\n",
        "\n",
        "import seaborn as sns\n",
        "import matplotlib as mlt\n",
        "import matplotlib.pyplot as plt\n",
        "%matplotlib inline\n",
        "sns.set_palette('deep')\n",
        "sns.set_color_codes()\n",
        "sns.set_style('darkgrid')\n",
        "\n",
        "# Models\n",
        "## Timeseries Models\n",
        "from fbprophet import Prophet\n",
        "\n",
        "## Tree Models\n",
        "from sklearn.ensemble import RandomForestRegressor\n",
        "from lightgbm import LGBMRegressor\n",
        "import xgboost as XGBRegressor\n",
        "import xgboost as xgb\n",
        "\n",
        "## Meta Model\n",
        "# from pytorch_tabnet.tab_model import TabNetRegressor\n",
        "\n",
        "# Preprocessing\n",
        "from sklearn.model_selection import StratifiedKFold\n",
        "\n",
        "# Metrics\n",
        "from sklearn.metrics import mean_squared_error as MSE\n",
        "from sklearn.metrics import mean_absolute_error as MAE\n",
        "\n",
        "# etc\n",
        "import holidays\n",
        "from termcolor import colored\n",
        "\n",
        "# Customs\n",
        "sys.path.append('/content/drive/MyDrive/gas/#requirements_GasDemand')\n",
        "from custom_functions import CreateMatch_test_features\n",
        "from custom_functions import HolidayMatch_train_test"
      ],
      "execution_count": null,
      "outputs": []
    },
    {
      "cell_type": "code",
      "metadata": {
        "id": "Ieb1f1H8Y_tl"
      },
      "source": [
        "#path = '/content/drive/MyDrive/my_data/Gas_Demand/' # data path 수정\n",
        "path=\"/content/drive/MyDrive/gas/\"\n",
        "train = pd.read_csv(path+\"new_total_stl.csv\")\n",
        "f_train = pd.read_csv(path+\"train.csv\",encoding='cp949')\n",
        "test = pd.read_csv(path + 'test.csv')\n",
        "submission = pd.read_csv(path + 'sample_submission.csv')\n",
        "\n",
        "test = CreateMatch_test_features(test)\n",
        "train, test = HolidayMatch_train_test(train, test)"
      ],
      "execution_count": null,
      "outputs": []
    },
    {
      "cell_type": "code",
      "metadata": {
        "id": "nHoKUGC1HeeN"
      },
      "source": [
        "train.drop(['시간블록'], axis = 1, inplace= True)\n",
        "test.drop(['시간블록'], axis = 1, inplace= True)\n",
        "train['시간'] += 1\n",
        "train.dropna(axis = 0, inplace=True)"
      ],
      "execution_count": null,
      "outputs": []
    },
    {
      "cell_type": "code",
      "metadata": {
        "colab": {
          "base_uri": "https://localhost:8080/",
          "height": 142
        },
        "id": "_KfC8gT_vBqe",
        "outputId": "25c5fbea-a347-4d0b-ea1b-ddc9b0e92676"
      },
      "source": [
        "train.head(3)"
      ],
      "execution_count": null,
      "outputs": [
        {
          "output_type": "execute_result",
          "data": {
            "text/html": [
              "<div>\n",
              "<style scoped>\n",
              "    .dataframe tbody tr th:only-of-type {\n",
              "        vertical-align: middle;\n",
              "    }\n",
              "\n",
              "    .dataframe tbody tr th {\n",
              "        vertical-align: top;\n",
              "    }\n",
              "\n",
              "    .dataframe thead th {\n",
              "        text-align: right;\n",
              "    }\n",
              "</style>\n",
              "<table border=\"1\" class=\"dataframe\">\n",
              "  <thead>\n",
              "    <tr style=\"text-align: right;\">\n",
              "      <th></th>\n",
              "      <th>연월일</th>\n",
              "      <th>시간</th>\n",
              "      <th>구분</th>\n",
              "      <th>month</th>\n",
              "      <th>year</th>\n",
              "      <th>weekday</th>\n",
              "      <th>holiday</th>\n",
              "      <th>공급량</th>\n",
              "    </tr>\n",
              "  </thead>\n",
              "  <tbody>\n",
              "    <tr>\n",
              "      <th>0</th>\n",
              "      <td>2013-01-01</td>\n",
              "      <td>1</td>\n",
              "      <td>A</td>\n",
              "      <td>1</td>\n",
              "      <td>2013</td>\n",
              "      <td>1</td>\n",
              "      <td>True</td>\n",
              "      <td>2497.129</td>\n",
              "    </tr>\n",
              "    <tr>\n",
              "      <th>1</th>\n",
              "      <td>2013-01-01</td>\n",
              "      <td>2</td>\n",
              "      <td>A</td>\n",
              "      <td>1</td>\n",
              "      <td>2013</td>\n",
              "      <td>1</td>\n",
              "      <td>True</td>\n",
              "      <td>2363.265</td>\n",
              "    </tr>\n",
              "    <tr>\n",
              "      <th>2</th>\n",
              "      <td>2013-01-01</td>\n",
              "      <td>3</td>\n",
              "      <td>A</td>\n",
              "      <td>1</td>\n",
              "      <td>2013</td>\n",
              "      <td>1</td>\n",
              "      <td>True</td>\n",
              "      <td>2258.505</td>\n",
              "    </tr>\n",
              "  </tbody>\n",
              "</table>\n",
              "</div>"
            ],
            "text/plain": [
              "         연월일  시간 구분  month  year  weekday  holiday       공급량\n",
              "0 2013-01-01   1  A      1  2013        1     True  2497.129\n",
              "1 2013-01-01   2  A      1  2013        1     True  2363.265\n",
              "2 2013-01-01   3  A      1  2013        1     True  2258.505"
            ]
          },
          "metadata": {},
          "execution_count": 97
        }
      ]
    },
    {
      "cell_type": "code",
      "metadata": {
        "colab": {
          "base_uri": "https://localhost:8080/",
          "height": 142
        },
        "id": "i9WaQnWhvDPm",
        "outputId": "f3be9c32-cb8b-4429-da26-af022116049a"
      },
      "source": [
        "test.head(3)"
      ],
      "execution_count": null,
      "outputs": [
        {
          "output_type": "execute_result",
          "data": {
            "text/html": [
              "<div>\n",
              "<style scoped>\n",
              "    .dataframe tbody tr th:only-of-type {\n",
              "        vertical-align: middle;\n",
              "    }\n",
              "\n",
              "    .dataframe tbody tr th {\n",
              "        vertical-align: top;\n",
              "    }\n",
              "\n",
              "    .dataframe thead th {\n",
              "        text-align: right;\n",
              "    }\n",
              "</style>\n",
              "<table border=\"1\" class=\"dataframe\">\n",
              "  <thead>\n",
              "    <tr style=\"text-align: right;\">\n",
              "      <th></th>\n",
              "      <th>연월일</th>\n",
              "      <th>시간</th>\n",
              "      <th>구분</th>\n",
              "      <th>month</th>\n",
              "      <th>year</th>\n",
              "      <th>weekday</th>\n",
              "      <th>holiday</th>\n",
              "    </tr>\n",
              "  </thead>\n",
              "  <tbody>\n",
              "    <tr>\n",
              "      <th>0</th>\n",
              "      <td>2019-01-01</td>\n",
              "      <td>1</td>\n",
              "      <td>A</td>\n",
              "      <td>1</td>\n",
              "      <td>2019</td>\n",
              "      <td>1</td>\n",
              "      <td>True</td>\n",
              "    </tr>\n",
              "    <tr>\n",
              "      <th>1</th>\n",
              "      <td>2019-01-01</td>\n",
              "      <td>2</td>\n",
              "      <td>A</td>\n",
              "      <td>1</td>\n",
              "      <td>2019</td>\n",
              "      <td>1</td>\n",
              "      <td>True</td>\n",
              "    </tr>\n",
              "    <tr>\n",
              "      <th>2</th>\n",
              "      <td>2019-01-01</td>\n",
              "      <td>3</td>\n",
              "      <td>A</td>\n",
              "      <td>1</td>\n",
              "      <td>2019</td>\n",
              "      <td>1</td>\n",
              "      <td>True</td>\n",
              "    </tr>\n",
              "  </tbody>\n",
              "</table>\n",
              "</div>"
            ],
            "text/plain": [
              "         연월일  시간 구분  month  year  weekday  holiday\n",
              "0 2019-01-01   1  A      1  2019        1     True\n",
              "1 2019-01-01   2  A      1  2019        1     True\n",
              "2 2019-01-01   3  A      1  2019        1     True"
            ]
          },
          "metadata": {},
          "execution_count": 98
        }
      ]
    },
    {
      "cell_type": "code",
      "metadata": {
        "id": "Lsa2WN9nyP-r"
      },
      "source": [
        "for i in set(train['구분']):\n",
        "    globals()['train_{}'.format(i)] = train[train['구분'] == i].drop(['구분'], axis = 1).reset_index(drop = True)\n",
        "    globals()['test_{}'.format(i)] = test[test['구분'] == i].drop(['구분'], axis = 1)"
      ],
      "execution_count": null,
      "outputs": []
    },
    {
      "cell_type": "markdown",
      "metadata": {
        "id": "SxIVCEL896Wk"
      },
      "source": [
        "# 개인별 분석 시작\n",
        "\n",
        "* 위에까지는 성연이가 짜놓은 코드를 입출력 동일하게 해놓은 것입니다.\n",
        "\n",
        "* 라이브러리 임포트 부분은 #과같은 형식을 갖춰서 마음껏 임포트합시다.\n",
        "\n",
        "* 설치해야할 패키지가 있다면 requirementes_GasDemand.txt 파일에 install 다음 부분만 적어놓으시면 됩니다. 정 안되시면 그냥 !pip 해둡시다.\n",
        "\n",
        "* 아래부터는 개인적인 코드 사용가능합니다.\n",
        "\n",
        "* 같이 일하는 사람이 많으니 함수명이나 변수명등을 지을때 최대한 서로 보기 쉽게 짜놓을 수 있으면 좋겠습니다.\n",
        "\n",
        "* 각자의 Custom 라이브러리를 만들려는 이유는 서로 코드 보기 편하자고 하는 것이 목적입니다. 그러니 간단한 함수가 필요하다거나 라이브러리 만드는 방법이 너무 힘들다 싶으면 그냥 안하셔도 됩니다. 대신, 깔끔했으면 좋겠어요 "
      ]
    },
    {
      "cell_type": "markdown",
      "metadata": {
        "id": "oZ5-j_koMrCX"
      },
      "source": [
        "# 기온 분석"
      ]
    },
    {
      "cell_type": "code",
      "metadata": {
        "colab": {
          "base_uri": "https://localhost:8080/",
          "height": 417
        },
        "id": "OZbI-LKqhb7x",
        "outputId": "1be9cb51-3815-4662-f6cf-5cb357dd2866"
      },
      "source": [
        "pd.read_csv(path+'/new_weather/weather2013.csv',encoding='cp949')"
      ],
      "execution_count": null,
      "outputs": [
        {
          "output_type": "execute_result",
          "data": {
            "text/html": [
              "<div>\n",
              "<style scoped>\n",
              "    .dataframe tbody tr th:only-of-type {\n",
              "        vertical-align: middle;\n",
              "    }\n",
              "\n",
              "    .dataframe tbody tr th {\n",
              "        vertical-align: top;\n",
              "    }\n",
              "\n",
              "    .dataframe thead th {\n",
              "        text-align: right;\n",
              "    }\n",
              "</style>\n",
              "<table border=\"1\" class=\"dataframe\">\n",
              "  <thead>\n",
              "    <tr style=\"text-align: right;\">\n",
              "      <th></th>\n",
              "      <th>format: day</th>\n",
              "      <th>hour</th>\n",
              "      <th>value location:60_127 Start : 20130101</th>\n",
              "    </tr>\n",
              "  </thead>\n",
              "  <tbody>\n",
              "    <tr>\n",
              "      <th>0</th>\n",
              "      <td>1</td>\n",
              "      <td>0.0</td>\n",
              "      <td>-6.9</td>\n",
              "    </tr>\n",
              "    <tr>\n",
              "      <th>1</th>\n",
              "      <td>1</td>\n",
              "      <td>100.0</td>\n",
              "      <td>-5.4</td>\n",
              "    </tr>\n",
              "    <tr>\n",
              "      <th>2</th>\n",
              "      <td>1</td>\n",
              "      <td>200.0</td>\n",
              "      <td>-4.1</td>\n",
              "    </tr>\n",
              "    <tr>\n",
              "      <th>3</th>\n",
              "      <td>1</td>\n",
              "      <td>300.0</td>\n",
              "      <td>-4.1</td>\n",
              "    </tr>\n",
              "    <tr>\n",
              "      <th>4</th>\n",
              "      <td>1</td>\n",
              "      <td>400.0</td>\n",
              "      <td>-1.8</td>\n",
              "    </tr>\n",
              "    <tr>\n",
              "      <th>...</th>\n",
              "      <td>...</td>\n",
              "      <td>...</td>\n",
              "      <td>...</td>\n",
              "    </tr>\n",
              "    <tr>\n",
              "      <th>8766</th>\n",
              "      <td>31</td>\n",
              "      <td>1900.0</td>\n",
              "      <td>0.9</td>\n",
              "    </tr>\n",
              "    <tr>\n",
              "      <th>8767</th>\n",
              "      <td>31</td>\n",
              "      <td>2000.0</td>\n",
              "      <td>0.6</td>\n",
              "    </tr>\n",
              "    <tr>\n",
              "      <th>8768</th>\n",
              "      <td>31</td>\n",
              "      <td>2100.0</td>\n",
              "      <td>0.7</td>\n",
              "    </tr>\n",
              "    <tr>\n",
              "      <th>8769</th>\n",
              "      <td>31</td>\n",
              "      <td>2200.0</td>\n",
              "      <td>0.7</td>\n",
              "    </tr>\n",
              "    <tr>\n",
              "      <th>8770</th>\n",
              "      <td>31</td>\n",
              "      <td>2300.0</td>\n",
              "      <td>0.5</td>\n",
              "    </tr>\n",
              "  </tbody>\n",
              "</table>\n",
              "<p>8771 rows × 3 columns</p>\n",
              "</div>"
            ],
            "text/plain": [
              "      format: day    hour  value location:60_127 Start : 20130101 \n",
              "0               1     0.0                                     -6.9\n",
              "1               1   100.0                                     -5.4\n",
              "2               1   200.0                                     -4.1\n",
              "3               1   300.0                                     -4.1\n",
              "4               1   400.0                                     -1.8\n",
              "...           ...     ...                                      ...\n",
              "8766           31  1900.0                                      0.9\n",
              "8767           31  2000.0                                      0.6\n",
              "8768           31  2100.0                                      0.7\n",
              "8769           31  2200.0                                      0.7\n",
              "8770           31  2300.0                                      0.5\n",
              "\n",
              "[8771 rows x 3 columns]"
            ]
          },
          "metadata": {},
          "execution_count": 148
        }
      ]
    },
    {
      "cell_type": "code",
      "metadata": {
        "colab": {
          "base_uri": "https://localhost:8080/",
          "height": 417
        },
        "id": "xVJhmYy_jGLT",
        "outputId": "3ae9af5b-94b7-4374-ea72-e540ca4c8fe9"
      },
      "source": [
        "pd.read_csv(path+'/new_weather/weather2014.csv',encoding='cp949')"
      ],
      "execution_count": null,
      "outputs": [
        {
          "output_type": "execute_result",
          "data": {
            "text/html": [
              "<div>\n",
              "<style scoped>\n",
              "    .dataframe tbody tr th:only-of-type {\n",
              "        vertical-align: middle;\n",
              "    }\n",
              "\n",
              "    .dataframe tbody tr th {\n",
              "        vertical-align: top;\n",
              "    }\n",
              "\n",
              "    .dataframe thead th {\n",
              "        text-align: right;\n",
              "    }\n",
              "</style>\n",
              "<table border=\"1\" class=\"dataframe\">\n",
              "  <thead>\n",
              "    <tr style=\"text-align: right;\">\n",
              "      <th></th>\n",
              "      <th>format: day</th>\n",
              "      <th>hour</th>\n",
              "      <th>value location:60_127 Start : 20140101</th>\n",
              "    </tr>\n",
              "  </thead>\n",
              "  <tbody>\n",
              "    <tr>\n",
              "      <th>0</th>\n",
              "      <td>1</td>\n",
              "      <td>0.0</td>\n",
              "      <td>1.8</td>\n",
              "    </tr>\n",
              "    <tr>\n",
              "      <th>1</th>\n",
              "      <td>1</td>\n",
              "      <td>100.0</td>\n",
              "      <td>3.6</td>\n",
              "    </tr>\n",
              "    <tr>\n",
              "      <th>2</th>\n",
              "      <td>1</td>\n",
              "      <td>200.0</td>\n",
              "      <td>5.4</td>\n",
              "    </tr>\n",
              "    <tr>\n",
              "      <th>3</th>\n",
              "      <td>1</td>\n",
              "      <td>300.0</td>\n",
              "      <td>7.0</td>\n",
              "    </tr>\n",
              "    <tr>\n",
              "      <th>4</th>\n",
              "      <td>1</td>\n",
              "      <td>400.0</td>\n",
              "      <td>6.7</td>\n",
              "    </tr>\n",
              "    <tr>\n",
              "      <th>...</th>\n",
              "      <td>...</td>\n",
              "      <td>...</td>\n",
              "      <td>...</td>\n",
              "    </tr>\n",
              "    <tr>\n",
              "      <th>8766</th>\n",
              "      <td>31</td>\n",
              "      <td>1900.0</td>\n",
              "      <td>-8.7</td>\n",
              "    </tr>\n",
              "    <tr>\n",
              "      <th>8767</th>\n",
              "      <td>31</td>\n",
              "      <td>2000.0</td>\n",
              "      <td>-9.0</td>\n",
              "    </tr>\n",
              "    <tr>\n",
              "      <th>8768</th>\n",
              "      <td>31</td>\n",
              "      <td>2100.0</td>\n",
              "      <td>-9.2</td>\n",
              "    </tr>\n",
              "    <tr>\n",
              "      <th>8769</th>\n",
              "      <td>31</td>\n",
              "      <td>2200.0</td>\n",
              "      <td>-9.4</td>\n",
              "    </tr>\n",
              "    <tr>\n",
              "      <th>8770</th>\n",
              "      <td>31</td>\n",
              "      <td>2300.0</td>\n",
              "      <td>-9.7</td>\n",
              "    </tr>\n",
              "  </tbody>\n",
              "</table>\n",
              "<p>8771 rows × 3 columns</p>\n",
              "</div>"
            ],
            "text/plain": [
              "      format: day    hour  value location:60_127 Start : 20140101 \n",
              "0               1     0.0                                      1.8\n",
              "1               1   100.0                                      3.6\n",
              "2               1   200.0                                      5.4\n",
              "3               1   300.0                                      7.0\n",
              "4               1   400.0                                      6.7\n",
              "...           ...     ...                                      ...\n",
              "8766           31  1900.0                                     -8.7\n",
              "8767           31  2000.0                                     -9.0\n",
              "8768           31  2100.0                                     -9.2\n",
              "8769           31  2200.0                                     -9.4\n",
              "8770           31  2300.0                                     -9.7\n",
              "\n",
              "[8771 rows x 3 columns]"
            ]
          },
          "metadata": {},
          "execution_count": 162
        }
      ]
    },
    {
      "cell_type": "code",
      "metadata": {
        "colab": {
          "base_uri": "https://localhost:8080/"
        },
        "id": "x-SVR1cqjIS-",
        "outputId": "18ccd6a9-817c-4420-e585-6dbc2ae72589"
      },
      "source": [
        "365 * 24"
      ],
      "execution_count": null,
      "outputs": [
        {
          "output_type": "execute_result",
          "data": {
            "text/plain": [
              "8760"
            ]
          },
          "metadata": {},
          "execution_count": 163
        }
      ]
    },
    {
      "cell_type": "code",
      "metadata": {
        "colab": {
          "base_uri": "https://localhost:8080/",
          "height": 417
        },
        "id": "MepXVsbMiVML",
        "outputId": "a07e7782-783d-4c85-f3cd-0113db5c51eb"
      },
      "source": [
        "f_train[f_train['구분'] == 'A'].iloc[:8760,:]"
      ],
      "execution_count": null,
      "outputs": [
        {
          "output_type": "execute_result",
          "data": {
            "text/html": [
              "<div>\n",
              "<style scoped>\n",
              "    .dataframe tbody tr th:only-of-type {\n",
              "        vertical-align: middle;\n",
              "    }\n",
              "\n",
              "    .dataframe tbody tr th {\n",
              "        vertical-align: top;\n",
              "    }\n",
              "\n",
              "    .dataframe thead th {\n",
              "        text-align: right;\n",
              "    }\n",
              "</style>\n",
              "<table border=\"1\" class=\"dataframe\">\n",
              "  <thead>\n",
              "    <tr style=\"text-align: right;\">\n",
              "      <th></th>\n",
              "      <th>연월일</th>\n",
              "      <th>시간</th>\n",
              "      <th>구분</th>\n",
              "      <th>공급량</th>\n",
              "    </tr>\n",
              "  </thead>\n",
              "  <tbody>\n",
              "    <tr>\n",
              "      <th>0</th>\n",
              "      <td>2013-01-01</td>\n",
              "      <td>1</td>\n",
              "      <td>A</td>\n",
              "      <td>2497.129</td>\n",
              "    </tr>\n",
              "    <tr>\n",
              "      <th>1</th>\n",
              "      <td>2013-01-01</td>\n",
              "      <td>2</td>\n",
              "      <td>A</td>\n",
              "      <td>2363.265</td>\n",
              "    </tr>\n",
              "    <tr>\n",
              "      <th>2</th>\n",
              "      <td>2013-01-01</td>\n",
              "      <td>3</td>\n",
              "      <td>A</td>\n",
              "      <td>2258.505</td>\n",
              "    </tr>\n",
              "    <tr>\n",
              "      <th>3</th>\n",
              "      <td>2013-01-01</td>\n",
              "      <td>4</td>\n",
              "      <td>A</td>\n",
              "      <td>2243.969</td>\n",
              "    </tr>\n",
              "    <tr>\n",
              "      <th>4</th>\n",
              "      <td>2013-01-01</td>\n",
              "      <td>5</td>\n",
              "      <td>A</td>\n",
              "      <td>2344.105</td>\n",
              "    </tr>\n",
              "    <tr>\n",
              "      <th>...</th>\n",
              "      <td>...</td>\n",
              "      <td>...</td>\n",
              "      <td>...</td>\n",
              "      <td>...</td>\n",
              "    </tr>\n",
              "    <tr>\n",
              "      <th>8755</th>\n",
              "      <td>2013-12-31</td>\n",
              "      <td>20</td>\n",
              "      <td>A</td>\n",
              "      <td>2298.889</td>\n",
              "    </tr>\n",
              "    <tr>\n",
              "      <th>8756</th>\n",
              "      <td>2013-12-31</td>\n",
              "      <td>21</td>\n",
              "      <td>A</td>\n",
              "      <td>2185.665</td>\n",
              "    </tr>\n",
              "    <tr>\n",
              "      <th>8757</th>\n",
              "      <td>2013-12-31</td>\n",
              "      <td>22</td>\n",
              "      <td>A</td>\n",
              "      <td>2097.929</td>\n",
              "    </tr>\n",
              "    <tr>\n",
              "      <th>8758</th>\n",
              "      <td>2013-12-31</td>\n",
              "      <td>23</td>\n",
              "      <td>A</td>\n",
              "      <td>1999.705</td>\n",
              "    </tr>\n",
              "    <tr>\n",
              "      <th>8759</th>\n",
              "      <td>2013-12-31</td>\n",
              "      <td>24</td>\n",
              "      <td>A</td>\n",
              "      <td>1858.169</td>\n",
              "    </tr>\n",
              "  </tbody>\n",
              "</table>\n",
              "<p>8760 rows × 4 columns</p>\n",
              "</div>"
            ],
            "text/plain": [
              "             연월일  시간 구분       공급량\n",
              "0     2013-01-01   1  A  2497.129\n",
              "1     2013-01-01   2  A  2363.265\n",
              "2     2013-01-01   3  A  2258.505\n",
              "3     2013-01-01   4  A  2243.969\n",
              "4     2013-01-01   5  A  2344.105\n",
              "...          ...  .. ..       ...\n",
              "8755  2013-12-31  20  A  2298.889\n",
              "8756  2013-12-31  21  A  2185.665\n",
              "8757  2013-12-31  22  A  2097.929\n",
              "8758  2013-12-31  23  A  1999.705\n",
              "8759  2013-12-31  24  A  1858.169\n",
              "\n",
              "[8760 rows x 4 columns]"
            ]
          },
          "metadata": {},
          "execution_count": 164
        }
      ]
    },
    {
      "cell_type": "code",
      "metadata": {
        "colab": {
          "base_uri": "https://localhost:8080/",
          "height": 417
        },
        "id": "KAPgSHYdhyId",
        "outputId": "c4f70558-ebb0-4826-aa69-de9e4c6b1724"
      },
      "source": [
        "train_A[train_A['year'] == 2013]"
      ],
      "execution_count": null,
      "outputs": [
        {
          "output_type": "execute_result",
          "data": {
            "text/html": [
              "<div>\n",
              "<style scoped>\n",
              "    .dataframe tbody tr th:only-of-type {\n",
              "        vertical-align: middle;\n",
              "    }\n",
              "\n",
              "    .dataframe tbody tr th {\n",
              "        vertical-align: top;\n",
              "    }\n",
              "\n",
              "    .dataframe thead th {\n",
              "        text-align: right;\n",
              "    }\n",
              "</style>\n",
              "<table border=\"1\" class=\"dataframe\">\n",
              "  <thead>\n",
              "    <tr style=\"text-align: right;\">\n",
              "      <th></th>\n",
              "      <th>연월일</th>\n",
              "      <th>시간</th>\n",
              "      <th>month</th>\n",
              "      <th>year</th>\n",
              "      <th>weekday</th>\n",
              "      <th>holiday</th>\n",
              "      <th>공급량</th>\n",
              "      <th>group_day</th>\n",
              "      <th>시간당비율</th>\n",
              "    </tr>\n",
              "  </thead>\n",
              "  <tbody>\n",
              "    <tr>\n",
              "      <th>0</th>\n",
              "      <td>2013-01-01</td>\n",
              "      <td>1</td>\n",
              "      <td>1</td>\n",
              "      <td>2013</td>\n",
              "      <td>1</td>\n",
              "      <td>True</td>\n",
              "      <td>2497.129</td>\n",
              "      <td>57606.415</td>\n",
              "      <td>0.043348</td>\n",
              "    </tr>\n",
              "    <tr>\n",
              "      <th>1</th>\n",
              "      <td>2013-01-01</td>\n",
              "      <td>2</td>\n",
              "      <td>1</td>\n",
              "      <td>2013</td>\n",
              "      <td>1</td>\n",
              "      <td>True</td>\n",
              "      <td>2363.265</td>\n",
              "      <td>57606.415</td>\n",
              "      <td>0.041024</td>\n",
              "    </tr>\n",
              "    <tr>\n",
              "      <th>2</th>\n",
              "      <td>2013-01-01</td>\n",
              "      <td>3</td>\n",
              "      <td>1</td>\n",
              "      <td>2013</td>\n",
              "      <td>1</td>\n",
              "      <td>True</td>\n",
              "      <td>2258.505</td>\n",
              "      <td>57606.415</td>\n",
              "      <td>0.039206</td>\n",
              "    </tr>\n",
              "    <tr>\n",
              "      <th>3</th>\n",
              "      <td>2013-01-01</td>\n",
              "      <td>4</td>\n",
              "      <td>1</td>\n",
              "      <td>2013</td>\n",
              "      <td>1</td>\n",
              "      <td>True</td>\n",
              "      <td>2243.969</td>\n",
              "      <td>57606.415</td>\n",
              "      <td>0.038953</td>\n",
              "    </tr>\n",
              "    <tr>\n",
              "      <th>4</th>\n",
              "      <td>2013-01-01</td>\n",
              "      <td>5</td>\n",
              "      <td>1</td>\n",
              "      <td>2013</td>\n",
              "      <td>1</td>\n",
              "      <td>True</td>\n",
              "      <td>2344.105</td>\n",
              "      <td>57606.415</td>\n",
              "      <td>0.040692</td>\n",
              "    </tr>\n",
              "    <tr>\n",
              "      <th>...</th>\n",
              "      <td>...</td>\n",
              "      <td>...</td>\n",
              "      <td>...</td>\n",
              "      <td>...</td>\n",
              "      <td>...</td>\n",
              "      <td>...</td>\n",
              "      <td>...</td>\n",
              "      <td>...</td>\n",
              "      <td>...</td>\n",
              "    </tr>\n",
              "    <tr>\n",
              "      <th>8739</th>\n",
              "      <td>2013-12-31</td>\n",
              "      <td>20</td>\n",
              "      <td>12</td>\n",
              "      <td>2013</td>\n",
              "      <td>1</td>\n",
              "      <td>False</td>\n",
              "      <td>2298.889</td>\n",
              "      <td>49663.144</td>\n",
              "      <td>0.046290</td>\n",
              "    </tr>\n",
              "    <tr>\n",
              "      <th>8740</th>\n",
              "      <td>2013-12-31</td>\n",
              "      <td>21</td>\n",
              "      <td>12</td>\n",
              "      <td>2013</td>\n",
              "      <td>1</td>\n",
              "      <td>False</td>\n",
              "      <td>2185.665</td>\n",
              "      <td>49663.144</td>\n",
              "      <td>0.044010</td>\n",
              "    </tr>\n",
              "    <tr>\n",
              "      <th>8741</th>\n",
              "      <td>2013-12-31</td>\n",
              "      <td>22</td>\n",
              "      <td>12</td>\n",
              "      <td>2013</td>\n",
              "      <td>1</td>\n",
              "      <td>False</td>\n",
              "      <td>2097.929</td>\n",
              "      <td>49663.144</td>\n",
              "      <td>0.042243</td>\n",
              "    </tr>\n",
              "    <tr>\n",
              "      <th>8742</th>\n",
              "      <td>2013-12-31</td>\n",
              "      <td>23</td>\n",
              "      <td>12</td>\n",
              "      <td>2013</td>\n",
              "      <td>1</td>\n",
              "      <td>False</td>\n",
              "      <td>1999.705</td>\n",
              "      <td>49663.144</td>\n",
              "      <td>0.040265</td>\n",
              "    </tr>\n",
              "    <tr>\n",
              "      <th>8743</th>\n",
              "      <td>2013-12-31</td>\n",
              "      <td>24</td>\n",
              "      <td>12</td>\n",
              "      <td>2013</td>\n",
              "      <td>1</td>\n",
              "      <td>False</td>\n",
              "      <td>1858.169</td>\n",
              "      <td>49663.144</td>\n",
              "      <td>0.037415</td>\n",
              "    </tr>\n",
              "  </tbody>\n",
              "</table>\n",
              "<p>8744 rows × 9 columns</p>\n",
              "</div>"
            ],
            "text/plain": [
              "            연월일  시간  month  year  ...  holiday       공급량  group_day     시간당비율\n",
              "0    2013-01-01   1      1  2013  ...     True  2497.129  57606.415  0.043348\n",
              "1    2013-01-01   2      1  2013  ...     True  2363.265  57606.415  0.041024\n",
              "2    2013-01-01   3      1  2013  ...     True  2258.505  57606.415  0.039206\n",
              "3    2013-01-01   4      1  2013  ...     True  2243.969  57606.415  0.038953\n",
              "4    2013-01-01   5      1  2013  ...     True  2344.105  57606.415  0.040692\n",
              "...         ...  ..    ...   ...  ...      ...       ...        ...       ...\n",
              "8739 2013-12-31  20     12  2013  ...    False  2298.889  49663.144  0.046290\n",
              "8740 2013-12-31  21     12  2013  ...    False  2185.665  49663.144  0.044010\n",
              "8741 2013-12-31  22     12  2013  ...    False  2097.929  49663.144  0.042243\n",
              "8742 2013-12-31  23     12  2013  ...    False  1999.705  49663.144  0.040265\n",
              "8743 2013-12-31  24     12  2013  ...    False  1858.169  49663.144  0.037415\n",
              "\n",
              "[8744 rows x 9 columns]"
            ]
          },
          "metadata": {},
          "execution_count": 151
        }
      ]
    },
    {
      "cell_type": "code",
      "metadata": {
        "id": "PWm-hHNRMrs7"
      },
      "source": [
        "#데이터 불러오기\n",
        "temp_train=pd.DataFrame()\n",
        "temp_test=pd.DataFrame()\n",
        "for year in [2012,2013,2014,2015,2016,2017,2018]:\n",
        "  temp_train=temp_train.append(pd.read_csv(path+'/weather/'+f'weather{year}.csv',encoding='cp949'))\n",
        "temp_train.reset_index(drop=True,inplace=True)\n",
        "for year in [2019]:\n",
        "  temp_test=temp_test.append(pd.read_csv(path+'/weather/'+f'weather{year}.csv',encoding='cp949'))\n",
        "temp_test.reset_index(drop=True,inplace=True)\n",
        "\n",
        "#데이터 최고기온, 최저기온으로 전처리\n",
        "temp_train['연월일'] = temp_train['일시'].str.split(' ').str[0]\n",
        "temp_train['시간'] = temp_train['일시'].str.split(' ').str[1]\n",
        "temp_test['연월일'] = temp_test['일시'].str.split(' ').str[0]\n",
        "temp_test['시간'] = temp_test['일시'].str.split(' ').str[1]\n",
        "temp_train.drop(['지점','지점명','일시','기온 QC플래그'],axis=1,inplace=True)\n",
        "temp_test.drop(['지점','지점명','일시'],axis=1,inplace=True)\n",
        "\n",
        "temp_train=pd.DataFrame({'연월일':temp_train.연월일.unique(),'최고기온':temp_train.groupby('연월일')['기온(°C)'].max().values,'최저기온':temp_train.groupby('연월일')['기온(°C)'].min().values})\n",
        "temp_test=pd.DataFrame({'연월일':temp_test.연월일.unique(),'최고기온':temp_test.groupby('연월일')['기온(°C)'].max().values,'최저기온':temp_test.groupby('연월일')['기온(°C)'].min().values})\n",
        "\n",
        "temp_train.연월일=pd.to_datetime(temp_train.연월일)\n",
        "temp_test.연월일=pd.to_datetime(temp_test.연월일)"
      ],
      "execution_count": null,
      "outputs": []
    },
    {
      "cell_type": "markdown",
      "metadata": {
        "id": "iOfLlqY3UtSo"
      },
      "source": [
        "# 시간대 별 비율 찾기"
      ]
    },
    {
      "cell_type": "code",
      "metadata": {
        "id": "vxsyBdeAM319"
      },
      "source": [
        "def preprocess(train):\n",
        "    train['group_day']=0\n",
        "    data=pd.DataFrame({'연월일':train.연월일.unique(),'group_day':train.groupby(['연월일']).공급량.sum().values})\n",
        "    for i in tqdm(range(data.shape[0])):\n",
        "        train.loc[train.연월일==data.연월일[i],'group_day']=data.group_day[i]\n",
        "    train['시간당비율'] = train['공급량'] / train['group_day']\n",
        "    return train"
      ],
      "execution_count": null,
      "outputs": []
    },
    {
      "cell_type": "code",
      "metadata": {
        "colab": {
          "base_uri": "https://localhost:8080/"
        },
        "id": "8nfcSAknNGIv",
        "outputId": "750f5d9d-8ae1-4937-b6f7-27415f219b66"
      },
      "source": [
        "train_A = preprocess(train_A)\n",
        "train_A_tlabel = train_A['시간당비율']\n",
        "train_A_t = train_A.drop(['연월일','공급량','year','group_day','시간당비율'], axis = 1)\n",
        "test_A_t = test_A.drop(['연월일','year'], axis = 1)\n",
        "rf = RandomForestRegressor(random_state = 0, n_estimators = 100)\n",
        "rf.fit(train_A_t,train_A_tlabel)\n",
        "test_A['시간당비율'] = rf.predict(test_A_t)"
      ],
      "execution_count": null,
      "outputs": [
        {
          "output_type": "stream",
          "name": "stderr",
          "text": [
            "100%|██████████| 2191/2191 [00:02<00:00, 958.98it/s]\n"
          ]
        }
      ]
    },
    {
      "cell_type": "code",
      "metadata": {
        "colab": {
          "base_uri": "https://localhost:8080/"
        },
        "id": "catQXE6KTVps",
        "outputId": "61731ae0-eaa8-42b1-dfcf-3f27deacfffb"
      },
      "source": [
        "train_B = preprocess(train_B)\n",
        "train_B_tlabel = train_B['시간당비율']\n",
        "train_B_t = train_B.drop(['연월일','공급량','year','group_day','시간당비율'], axis = 1)\n",
        "test_B_t = test_B.drop(['연월일','year'], axis = 1)\n",
        "rf = RandomForestRegressor(random_state = 0, n_estimators = 100)\n",
        "rf.fit(train_B_t,train_B_tlabel)\n",
        "test_B['시간당비율'] = rf.predict(test_B_t)"
      ],
      "execution_count": null,
      "outputs": [
        {
          "output_type": "stream",
          "name": "stderr",
          "text": [
            "100%|██████████| 2191/2191 [00:02<00:00, 967.32it/s]\n"
          ]
        }
      ]
    },
    {
      "cell_type": "code",
      "metadata": {
        "colab": {
          "base_uri": "https://localhost:8080/"
        },
        "id": "XyIbqyUmT_Px",
        "outputId": "7a88e717-5410-457c-e28a-d96044b59d3d"
      },
      "source": [
        "train_C = preprocess(train_C)\n",
        "train_C_tlabel = train_C['시간당비율']\n",
        "train_C_t = train_C.drop(['연월일','공급량','year','group_day','시간당비율'], axis = 1)\n",
        "test_C_t = test_C.drop(['연월일','year'], axis = 1)\n",
        "rf = RandomForestRegressor(random_state = 0, n_estimators = 100)\n",
        "rf.fit(train_C_t,train_C_tlabel)\n",
        "test_C['시간당비율'] = rf.predict(test_C_t)"
      ],
      "execution_count": null,
      "outputs": [
        {
          "output_type": "stream",
          "name": "stderr",
          "text": [
            "100%|██████████| 2191/2191 [00:02<00:00, 989.48it/s]\n"
          ]
        }
      ]
    },
    {
      "cell_type": "code",
      "metadata": {
        "colab": {
          "base_uri": "https://localhost:8080/"
        },
        "id": "Dr_QoRvtT2xN",
        "outputId": "45617230-137a-4d77-e025-51eac88d94ff"
      },
      "source": [
        "train_D = preprocess(train_D)\n",
        "train_D_tlabel = train_D['시간당비율']\n",
        "train_D_t = train_D.drop(['연월일','공급량','year','group_day','시간당비율'], axis = 1)\n",
        "test_D_t = test_D.drop(['연월일','year'], axis = 1)\n",
        "rf = RandomForestRegressor(random_state = 0, n_estimators = 100)\n",
        "rf.fit(train_D_t,train_D_tlabel)\n",
        "test_D['시간당비율'] = rf.predict(test_D_t)"
      ],
      "execution_count": null,
      "outputs": [
        {
          "output_type": "stream",
          "name": "stderr",
          "text": [
            "100%|██████████| 2191/2191 [00:02<00:00, 992.15it/s]\n"
          ]
        }
      ]
    },
    {
      "cell_type": "code",
      "metadata": {
        "colab": {
          "base_uri": "https://localhost:8080/"
        },
        "id": "kEpW1CHJUOJR",
        "outputId": "ea0635bb-5deb-43b9-e31b-c6c4a969865e"
      },
      "source": [
        "train_E = preprocess(train_E)\n",
        "train_E_tlabel = train_E['시간당비율']\n",
        "train_E_t = train_E.drop(['연월일','공급량','year','group_day','시간당비율'], axis = 1)\n",
        "test_E_t = test_E.drop(['연월일','year'], axis = 1)\n",
        "rf = RandomForestRegressor(random_state = 0, n_estimators = 100)\n",
        "rf.fit(train_E_t,train_E_tlabel)\n",
        "test_E['시간당비율'] = rf.predict(test_E_t)"
      ],
      "execution_count": null,
      "outputs": [
        {
          "output_type": "stream",
          "name": "stderr",
          "text": [
            "100%|██████████| 2191/2191 [00:02<00:00, 992.98it/s]\n"
          ]
        }
      ]
    },
    {
      "cell_type": "code",
      "metadata": {
        "colab": {
          "base_uri": "https://localhost:8080/"
        },
        "id": "oVA0NvitUUkC",
        "outputId": "7770a51b-89a1-4ec9-e14b-f85c9846c0b8"
      },
      "source": [
        "train_G = preprocess(train_G)\n",
        "train_G_tlabel = train_G['시간당비율']\n",
        "train_G_t = train_G.drop(['연월일','공급량','year','group_day','시간당비율'], axis = 1)\n",
        "test_G_t = test_G.drop(['연월일','year'], axis = 1)\n",
        "rf = RandomForestRegressor(random_state = 0, n_estimators = 100)\n",
        "rf.fit(train_G_t,train_G_tlabel)\n",
        "test_G['시간당비율'] = rf.predict(test_G_t)"
      ],
      "execution_count": null,
      "outputs": [
        {
          "output_type": "stream",
          "name": "stderr",
          "text": [
            "100%|██████████| 2191/2191 [00:02<00:00, 984.02it/s]\n"
          ]
        }
      ]
    },
    {
      "cell_type": "code",
      "metadata": {
        "colab": {
          "base_uri": "https://localhost:8080/"
        },
        "id": "o5rtezPeUgA4",
        "outputId": "c802866a-29b7-4ad3-9219-8b9f6802dc91"
      },
      "source": [
        "train_H = preprocess(train_H)\n",
        "train_H_tlabel = train_H['시간당비율']\n",
        "train_H_t = train_H.drop(['연월일','공급량','year','group_day','시간당비율'], axis = 1)\n",
        "test_H_t = test_H.drop(['연월일','year'], axis = 1)\n",
        "rf = RandomForestRegressor(random_state = 0, n_estimators = 100)\n",
        "rf.fit(train_H_t,train_H_tlabel)\n",
        "test_H['시간당비율'] = rf.predict(test_H_t)"
      ],
      "execution_count": null,
      "outputs": [
        {
          "output_type": "stream",
          "name": "stderr",
          "text": [
            "100%|██████████| 2191/2191 [00:02<00:00, 996.53it/s] \n"
          ]
        }
      ]
    },
    {
      "cell_type": "code",
      "metadata": {
        "id": "3Ab4fBHNUe5m"
      },
      "source": [
        ""
      ],
      "execution_count": null,
      "outputs": []
    },
    {
      "cell_type": "markdown",
      "metadata": {
        "id": "9UMWISJ1UwZ2"
      },
      "source": [
        "# 일자별 공급량 찾기"
      ]
    },
    {
      "cell_type": "code",
      "metadata": {
        "id": "XxdwEYt9UwqB"
      },
      "source": [
        "day_train_A=train_A[['연월일','month','year','weekday','holiday','group_day']].drop_duplicates()\n",
        "day_test_A=test_A[['연월일','month','year','weekday','holiday']].drop_duplicates()\n",
        "day_train_A_label = np.log1p(day_train_A['group_day'])\n",
        "day_train_A.drop(['연월일','year','group_day'], axis = 1, inplace= True)\n",
        "\n",
        "rf = RandomForestRegressor(random_state = 0, n_estimators = 100)\n",
        "rf.fit(day_train_A,day_train_A_label)\n",
        "day_test_A['group_day'] = np.expm1(rf.predict(day_test_A.drop(['연월일','year'], axis = 1)))\n",
        "test_A = pd.merge(test_A, day_test_A, how='left')"
      ],
      "execution_count": null,
      "outputs": []
    },
    {
      "cell_type": "code",
      "metadata": {
        "id": "qfQH3hgXYts8"
      },
      "source": [
        "day_train_B=train_B[['연월일','month','year','weekday','holiday','group_day']].drop_duplicates()\n",
        "day_test_B=test_B[['연월일','month','year','weekday','holiday']].drop_duplicates()\n",
        "day_train_B_label = np.log1p(day_train_B['group_day'])\n",
        "day_train_B.drop(['연월일','year','group_day'], axis = 1, inplace= True)\n",
        "\n",
        "rf = RandomForestRegressor(random_state = 0, n_estimators = 100)\n",
        "rf.fit(day_train_B,day_train_B_label)\n",
        "day_test_B['group_day'] = np.expm1(rf.predict(day_test_B.drop(['연월일','year'], axis = 1)))\n",
        "test_B = pd.merge(test_B, day_test_B, how='left')"
      ],
      "execution_count": null,
      "outputs": []
    },
    {
      "cell_type": "code",
      "metadata": {
        "id": "msx14W6sZZDW"
      },
      "source": [
        "day_train_C=train_C[['연월일','month','year','weekday','holiday','group_day']].drop_duplicates()\n",
        "day_test_C=test_C[['연월일','month','year','weekday','holiday']].drop_duplicates()\n",
        "day_train_C_label = np.log1p(day_train_C['group_day'])\n",
        "day_train_C.drop(['연월일','year','group_day'], axis = 1, inplace= True)\n",
        "\n",
        "rf = RandomForestRegressor(random_state = 0, n_estimators = 100)\n",
        "rf.fit(day_train_C,day_train_C_label)\n",
        "day_test_C['group_day'] = np.expm1(rf.predict(day_test_C.drop(['연월일','year'], axis = 1)))\n",
        "test_C = pd.merge(test_C, day_test_C, how='left')"
      ],
      "execution_count": null,
      "outputs": []
    },
    {
      "cell_type": "code",
      "metadata": {
        "id": "fnhhrFIbZoGW"
      },
      "source": [
        "day_train_D=train_D[['연월일','month','year','weekday','holiday','group_day']].drop_duplicates()\n",
        "day_test_D=test_D[['연월일','month','year','weekday','holiday']].drop_duplicates()\n",
        "day_train_D_label = np.log1p(day_train_D['group_day'])\n",
        "day_train_D.drop(['연월일','year','group_day'], axis = 1, inplace= True)\n",
        "\n",
        "rf = RandomForestRegressor(random_state = 0, n_estimators = 100)\n",
        "rf.fit(day_train_D,day_train_D_label)\n",
        "day_test_D['group_day'] = np.expm1(rf.predict(day_test_D.drop(['연월일','year'], axis = 1)))\n",
        "test_D = pd.merge(test_D, day_test_D, how='left')"
      ],
      "execution_count": null,
      "outputs": []
    },
    {
      "cell_type": "code",
      "metadata": {
        "id": "PObTQEYNZ0mW"
      },
      "source": [
        "day_train_E=train_E[['연월일','month','year','weekday','holiday','group_day']].drop_duplicates()\n",
        "day_test_E=test_E[['연월일','month','year','weekday','holiday']].drop_duplicates()\n",
        "day_train_E_label = np.log1p(day_train_E['group_day'])\n",
        "day_train_E.drop(['연월일','year','group_day'], axis = 1, inplace= True)\n",
        "\n",
        "rf = RandomForestRegressor(random_state = 0, n_estimators = 100)\n",
        "rf.fit(day_train_E,day_train_E_label)\n",
        "day_test_E['group_day'] = np.expm1(rf.predict(day_test_E.drop(['연월일','year'], axis = 1)))\n",
        "test_E = pd.merge(test_E, day_test_E, how='left')"
      ],
      "execution_count": null,
      "outputs": []
    },
    {
      "cell_type": "code",
      "metadata": {
        "id": "TKFBbBpLZZIm"
      },
      "source": [
        "day_train_G=train_G[['연월일','month','year','weekday','holiday','group_day']].drop_duplicates()\n",
        "day_test_G=test_G[['연월일','month','year','weekday','holiday']].drop_duplicates()\n",
        "day_train_G_label = np.log1p(day_train_G['group_day'])\n",
        "day_train_G.drop(['연월일','year','group_day'], axis = 1, inplace= True)\n",
        "\n",
        "rf = RandomForestRegressor(random_state = 0, n_estimators = 100)\n",
        "rf.fit(day_train_G,day_train_G_label)\n",
        "day_test_G['group_day'] = np.expm1(rf.predict(day_test_G.drop(['연월일','year'], axis = 1)))\n",
        "test_G = pd.merge(test_G, day_test_G, how='left')"
      ],
      "execution_count": null,
      "outputs": []
    },
    {
      "cell_type": "code",
      "metadata": {
        "id": "gr4pfjCJaCbU"
      },
      "source": [
        "day_train_H=train_H[['연월일','month','year','weekday','holiday','group_day']].drop_duplicates()\n",
        "day_test_H=test_H[['연월일','month','year','weekday','holiday']].drop_duplicates()\n",
        "day_train_H_label = np.log1p(day_train_H['group_day'])\n",
        "day_train_H.drop(['연월일','year','group_day'], axis = 1, inplace= True)\n",
        "\n",
        "rf = RandomForestRegressor(random_state = 0, n_estimators = 100)\n",
        "rf.fit(day_train_H,day_train_H_label)\n",
        "day_test_H['group_day'] = np.expm1(rf.predict(day_test_H.drop(['연월일','year'], axis = 1)))\n",
        "test_H = pd.merge(test_H, day_test_H, how='left')"
      ],
      "execution_count": null,
      "outputs": []
    },
    {
      "cell_type": "markdown",
      "metadata": {
        "id": "FcMuO2mzaVVc"
      },
      "source": [
        "# 최종 계산"
      ]
    },
    {
      "cell_type": "code",
      "metadata": {
        "id": "IGDmZZnwVxJF"
      },
      "source": [
        "new_test = pd.concat([test_A, test_B, test_C, test_D, test_E, test_G, test_H])\n",
        "\n",
        "submission['공급량'] = (new_test['시간당비율'] * new_test['group_day']).reset_index(drop = True)\n",
        "submission.to_csv('gas_KSY_20.csv',encoding='UTF-8',index=False)"
      ],
      "execution_count": null,
      "outputs": []
    },
    {
      "cell_type": "code",
      "metadata": {
        "colab": {
          "base_uri": "https://localhost:8080/"
        },
        "id": "5L0byG6EbkyF",
        "outputId": "1b7d4f73-ea27-4909-d88a-3bedf630d8a4"
      },
      "source": [
        "submission['공급량'].mean()"
      ],
      "execution_count": null,
      "outputs": [
        {
          "output_type": "execute_result",
          "data": {
            "text/plain": [
              "1547.1716566119158"
            ]
          },
          "metadata": {},
          "execution_count": 142
        }
      ]
    },
    {
      "cell_type": "code",
      "metadata": {
        "id": "HFk5tCRdbbOf"
      },
      "source": [
        ""
      ],
      "execution_count": null,
      "outputs": []
    }
  ]
}